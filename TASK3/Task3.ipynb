{
 "cells": [
  {
   "cell_type": "markdown",
   "metadata": {},
   "source": [
    "## TASK 3 - Scene recognition with Bag of Visual Words\n",
    "\n",
    "Group Number: Group_9-11_11\n",
    "\n",
    "\n",
    "### 1 Data import and Preparation\n",
    "\n",
    "Complete the class ***SceneDataset*** in ***dataset.py*** and load the training and test dataset. (images and class labels)"
   ]
  },
  {
   "cell_type": "code",
   "execution_count": 22,
   "metadata": {},
   "outputs": [
    {
     "name": "stdout",
     "output_type": "stream",
     "text": [
      "The autoreload extension is already loaded. To reload it, use:\n",
      "  %reload_ext autoreload\n"
     ]
    }
   ],
   "source": [
    "%load_ext autoreload\n",
    "%autoreload 1\n",
    "%aimport features, dataset, utils\n",
    "from sklearn.neighbors import KNeighborsClassifier\n",
    "from sklearn.cluster import KMeans\n",
    "import numpy as np\n",
    "import features\n",
    "import dataset\n",
    "import utils\n",
    "import os"
   ]
  },
  {
   "cell_type": "code",
   "execution_count": 23,
   "metadata": {},
   "outputs": [
    {
     "name": "stdout",
     "output_type": "stream",
     "text": [
      "Imported test data:  400\n",
      "Imported training data:  1600\n",
      "['bedroom', 'coast', 'forest', 'kitchen', 'livingroom', 'mountain', 'office', 'store', 'street', 'tallbuilding']\n"
     ]
    }
   ],
   "source": [
    "if not os.path.exists(os.path.join(os.getcwd(), 'results')):\n",
    "    os.makedirs(os.path.join(os.getcwd(), 'results'))\n",
    "\n",
    "#student_code start\n",
    "train_data = None\n",
    "test_data = None\n",
    "class_names = None\n",
    "\n",
    "train_data = dataset.SceneDataset('data/scene/train')\n",
    "test_data = dataset.SceneDataset('data/scene/test')\n",
    "class_names = train_data.class_names\n",
    "\n",
    "#test_images = test_data.images\n",
    "#train_images = train_data.images\n",
    "\n",
    "#student_code end\n",
    "print('Imported test data: ',len(test_data.images))\n",
    "print('Imported training data: ', len(train_data.images))\n",
    "print(class_names)\n"
   ]
  },
  {
   "cell_type": "markdown",
   "metadata": {},
   "source": [
    "###  2 Build Vocabulary and Clusters\n",
    "\n",
    "Extract SIFT features from the training data using ***features.extract_dsift(..)*** and then utilize the descriptors to generate visual words with ***KMeans(...).fit(...).cluster_centers_*** from ***sklearn.neighbors***. Set the sample size per image at about **100** and a step size around **5**. For cluster size, try a value around **50**. You can adapt the paramater to achieve better results. If clustering takes too long, have a look at the parameters **n_init** and **max_iter** of ***KMeans(...)***.\n",
    "\n",
    "_***HINT:***_\n",
    "***KMeans(..)*** expects the features to be a stacked 2D matrix instead of a list (np.vstack(...)).\n"
   ]
  },
  {
   "cell_type": "code",
   "execution_count": 20,
   "metadata": {},
   "outputs": [
    {
     "data": {
      "application/vnd.jupyter.widget-view+json": {
       "model_id": "8ff40b67fc8a4d87b6bfce3021a1f57a",
       "version_major": 2,
       "version_minor": 0
      },
      "text/plain": [
       "  0%|          | 0/1600 [00:00<?, ?it/s]"
      ]
     },
     "metadata": {},
     "output_type": "display_data"
    },
    {
     "name": "stdout",
     "output_type": "stream",
     "text": [
      "DSIFT Extraction: {3.636103111999546}  seconds\n"
     ]
    }
   ],
   "source": [
    "#student code start\n",
    "train_data.images\n",
    "dsift = features.extract_dsift(images = train_data.images,stepsize=5,num_samples=100)\n",
    "clusters = KMeans(n_clusters=50).fit(np.vstack(dsift)).cluster_centers_\n",
    "# ~2m 25s\n",
    "#student code end"
   ]
  },
  {
   "cell_type": "markdown",
   "metadata": {},
   "source": [
    "###  3 Classification\n",
    "\n",
    "Generat a histogram per image using the centroids. First extract the dense SIFT features of the training set again. This time use a smaller stepsize (eg. 1 or 2) and take all samples.\n",
    "\n",
    "After, implement ***count_visual_words(..)*** in ***features.py*** to obtain a histogram per image. Build a kNN classifier with ***KNeighborsClassifier(..)*** and fit the the model with the histogram data of the training images and training labels. Set the neighbourhood size to **3**.\n"
   ]
  },
  {
   "cell_type": "code",
   "execution_count": 12,
   "metadata": {},
   "outputs": [
    {
     "data": {
      "application/vnd.jupyter.widget-view+json": {
       "model_id": "730679d31a31493e907aaa62fcc5e2f9",
       "version_major": 2,
       "version_minor": 0
      },
      "text/plain": [
       "  0%|          | 0/1600 [00:00<?, ?it/s]"
      ]
     },
     "metadata": {},
     "output_type": "display_data"
    },
    {
     "name": "stdout",
     "output_type": "stream",
     "text": [
      "DSIFT Extraction: {13.9761507660005}  seconds\n"
     ]
    },
    {
     "data": {
      "application/vnd.jupyter.widget-view+json": {
       "model_id": "531582b0dd3b42ebb3897b8b60953c76",
       "version_major": 2,
       "version_minor": 0
      },
      "text/plain": [
       "  0%|          | 0/1600 [00:00<?, ?it/s]"
      ]
     },
     "metadata": {},
     "output_type": "display_data"
    },
    {
     "name": "stdout",
     "output_type": "stream",
     "text": [
      "Counting visual words: {641.3890722020005}  seconds\n"
     ]
    },
    {
     "data": {
      "text/plain": [
       "KNeighborsClassifier(n_neighbors=3)"
      ]
     },
     "execution_count": 12,
     "metadata": {},
     "output_type": "execute_result"
    }
   ],
   "source": [
    "#student code start\n",
    "# https://datascience.stackexchange.com/questions/16143/what-is-the-procedure-to-create-a-bag-of-visual-words-model-with-sift\n",
    "\n",
    "dense_desc = features.extract_dsift(images = train_data.images,stepsize=2,num_samples=None)\n",
    "hist, bin_edges = features.count_visual_words(dense_feat=dense_desc,centroids=clusters)\n",
    "# Create KNN classifier\n",
    "knn = KNeighborsClassifier(n_neighbors = 3)\n",
    "knn.fit(X=hist,y=train_data.labels)\n",
    "#~10m\n",
    "#student code end"
   ]
  },
  {
   "cell_type": "markdown",
   "metadata": {},
   "source": [
    "### 4 Evaluation\n",
    "\n",
    "Examine the accuracy of your model by extracting the dense SIFT points of the test set with the same stepsize as before, generate the histogams and predict the labels of the test set with the previously fitted classifier. Plot your results with ***utils.plot_confusion_matrix(..)***.\n",
    "\n",
    "_***HINT:***_\n",
    "Use the methods ***predict(..)*** and ***score(..)*** on the KNN classifier.\n",
    "\n",
    "\n",
    "***Submission:*** Save the confusion matrix with the KNN score as **task3_accuracy_test_data.png** using ***utils.plot_confusion_matrix(..)***.\n",
    "\n"
   ]
  },
  {
   "cell_type": "code",
   "execution_count": 13,
   "metadata": {},
   "outputs": [
    {
     "data": {
      "application/vnd.jupyter.widget-view+json": {
       "model_id": "15daad2bb7134897bd1c2214405c375c",
       "version_major": 2,
       "version_minor": 0
      },
      "text/plain": [
       "  0%|          | 0/400 [00:00<?, ?it/s]"
      ]
     },
     "metadata": {},
     "output_type": "display_data"
    },
    {
     "name": "stdout",
     "output_type": "stream",
     "text": [
      "DSIFT Extraction: {3.6151211650012556}  seconds\n"
     ]
    },
    {
     "data": {
      "application/vnd.jupyter.widget-view+json": {
       "model_id": "1fd924cfd72b4812a341d3ca59e45a8e",
       "version_major": 2,
       "version_minor": 0
      },
      "text/plain": [
       "  0%|          | 0/400 [00:00<?, ?it/s]"
      ]
     },
     "metadata": {},
     "output_type": "display_data"
    },
    {
     "name": "stdout",
     "output_type": "stream",
     "text": [
      "Counting visual words: {154.98841299999913}  seconds\n",
      "score = 0.45\n"
     ]
    }
   ],
   "source": [
    "#student code start\n",
    "dense_desc_test = features.extract_dsift(images = test_data.images,stepsize=2,num_samples=None)\n",
    "hist_test, bin_edges_test = features.count_visual_words(dense_feat=dense_desc_test,centroids=clusters)\n",
    "predicts = knn.predict(hist_test)\n",
    "score = knn.score(hist_test,test_data.labels)\n",
    "print(f\"score = {score}\")\n",
    "#student code end"
   ]
  },
  {
   "cell_type": "code",
   "execution_count": 14,
   "metadata": {},
   "outputs": [
    {
     "data": {
      "image/png": "[encoded data removed]",
      "text/plain": [
       "<Figure size 432x288 with 1 Axes>"
      ]
     },
     "metadata": {
      "needs_background": "light"
     },
     "output_type": "display_data"
    }
   ],
   "source": [
    "utils.plot_confusion_matrix(test_data.labels, predicts, score, class_names, \n",
    "                          group_no = 'Group 9-11 11', name = \"task3_accuracy_test_data.png\")"
   ]
  },
  {
   "cell_type": "markdown",
   "metadata": {},
   "source": [
    "***\n",
    "#### Q1: Analyze the confusion matrix. Are there classes which can be more easily identified than others. What could be the reason? What classes perform worst, and explain your answer.\n"
   ]
  },
  {
   "cell_type": "markdown",
   "metadata": {},
   "source": [
    "The scenes that achive the best result are coast, forest, mountain, tallbuilding and store. Scenes that result in a lower score are bedroom, kitchen, livingroom, office, street. \n",
    "\n",
    "While most of the detected scenes are outdoor scenes that often greatly visually differ from each other, e.g. coast vs forest. Indoor scenes seems to get a lower scores probnably because the are visually more identical and therefore harder to detect with handcrafted features like in our bag of words approach. \n",
    "\n",
    "One example of a bad score is office. When we look at the training dataset we see that some images show a cluttered bookshelf and desk while others show a more organized desk. On the other had the good detected forest shows on all images different trees with leaves. Therefore we assume some classes have an easier pattern to detect than others"
   ]
  },
  {
   "cell_type": "markdown",
   "metadata": {},
   "source": [
    "\n",
    "Take some own test images and investigate if they can be correctly classified with you trained model. For instance, take a photo of your own kitchen or living room and classify it. You should at least test one photo from three of the ten categories. Make sure the images are resized and cropped to 100x100.\n",
    "\n",
    "\n",
    "***Submission:*** Save the confusion matrix with the model score as **task3_accuracy_custom_data.png** using ***utils.plot_confusion_matrix(..)***.\n"
   ]
  },
  {
   "cell_type": "code",
   "execution_count": 21,
   "metadata": {},
   "outputs": [
    {
     "name": "stdout",
     "output_type": "stream",
     "text": [
      "train data classnames ['bedroom', 'coast', 'forest', 'kitchen', 'livingroom', 'mountain', 'office', 'store', 'street', 'tallbuilding']\n",
      "own data classnames ['bedroom', 'coast', 'forest', 'kitchen', 'livingroom', 'mountain', 'office', 'store', 'street', 'tallbuilding']\n"
     ]
    },
    {
     "data": {
      "application/vnd.jupyter.widget-view+json": {
       "model_id": "ff5c20d3419b4084bdb42c249943a7b0",
       "version_major": 2,
       "version_minor": 0
      },
      "text/plain": [
       "  0%|          | 0/20 [00:00<?, ?it/s]"
      ]
     },
     "metadata": {},
     "output_type": "display_data"
    },
    {
     "name": "stdout",
     "output_type": "stream",
     "text": [
      "DSIFT Extraction: {0.1709490060002281}  seconds\n"
     ]
    },
    {
     "data": {
      "application/vnd.jupyter.widget-view+json": {
       "model_id": "d753ddf319d8467aae9680ab3d98f33f",
       "version_major": 2,
       "version_minor": 0
      },
      "text/plain": [
       "  0%|          | 0/20 [00:00<?, ?it/s]"
      ]
     },
     "metadata": {},
     "output_type": "display_data"
    },
    {
     "name": "stdout",
     "output_type": "stream",
     "text": [
      "Counting visual words: {7.819358125998406}  seconds\n",
      "score = 0.15\n"
     ]
    },
    {
     "data": {
      "image/png": "[encoded data removed]",
      "text/plain": [
       "<Figure size 432x288 with 1 Axes>"
      ]
     },
     "metadata": {
      "needs_background": "light"
     },
     "output_type": "display_data"
    },
    {
     "name": "stdout",
     "output_type": "stream",
     "text": [
      "[7 8 7 7 7 7 1 0 7 7 3 7 5 2 7 8 6 0 8 2]\n"
     ]
    }
   ],
   "source": [
    "#student code start\n",
    "# I added an img for each category otherwise the class labels would be wrong \n",
    "test_data_own = dataset.SceneDataset('data/own', resize=True)\n",
    "class_names_own = test_data_own.class_names\n",
    "print(f\"train data classnames {train_data.class_names}\")\n",
    "print(f\"own data classnames {test_data_own.class_names}\")\n",
    "\n",
    "\n",
    "dense_desc_test_own = features.extract_dsift(images = test_data_own.images,stepsize=2)\n",
    "hist_test_own, bin_edges_test_own = features.count_visual_words(dense_feat=dense_desc_test_own,centroids=clusters)\n",
    "\n",
    "predicts_own = knn.predict(hist_test_own)\n",
    "score_own = knn.score(hist_test_own,test_data_own.labels)\n",
    "print(f\"score = {score_own}\")\n",
    "utils.plot_confusion_matrix(test_data_own.labels, predicts_own, score_own, class_names_own, \n",
    "                          group_no = 'Group 9-11 11', name = \"task3_accuracy_custom_data.png\")\n",
    "\n",
    "print(predicts_own)\n",
    "\n",
    "#student code end"
   ]
  },
  {
   "cell_type": "markdown",
   "metadata": {},
   "source": [
    "We are not sure why our own dataset perfoms way worse. We think it might be due to the rezise process and the transformation from the color to a grayscale image. \n",
    "We took the images from google pictures. "
   ]
  }
 ],
 "metadata": {
  "interpreter": {
   "hash": "559e0089bb98c0906a38be0b5b38443aa40396a9c7441fa44534224d60dd5600"
  },
  "kernelspec": {
   "display_name": "Python 3 (ipykernel)",
   "language": "python",
   "name": "python3"
  },
  "language_info": {
   "codemirror_mode": {
    "name": "ipython",
    "version": 3
   },
   "file_extension": ".py",
   "mimetype": "text/x-python",
   "name": "python",
   "nbconvert_exporter": "python",
   "pygments_lexer": "ipython3",
   "version": "3.8.12"
  }
 },
 "nbformat": 4,
 "nbformat_minor": 4
}
