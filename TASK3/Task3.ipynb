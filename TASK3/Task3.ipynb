{
 "cells": [
  {
   "cell_type": "markdown",
   "metadata": {},
   "source": [
    "## TASK 3 - Scene recognition with Bag of Visual Words\n",
    "\n",
    "Group Number: Group_9-11_11\n",
    "\n",
    "\n",
    "### 1 Data import and Preparation\n",
    "\n",
    "Complete the class ***SceneDataset*** in ***dataset.py*** and load the training and test dataset. (images and class labels)"
   ]
  },
  {
   "cell_type": "code",
   "execution_count": 1,
   "metadata": {},
   "outputs": [],
   "source": [
    "%load_ext autoreload\n",
    "%autoreload 1\n",
    "%aimport features, dataset, utils\n",
    "from sklearn.neighbors import KNeighborsClassifier\n",
    "from sklearn.cluster import KMeans\n",
    "import numpy as np\n",
    "import features\n",
    "import dataset\n",
    "import utils\n",
    "import os"
   ]
  },
  {
   "cell_type": "code",
   "execution_count": 2,
   "metadata": {},
   "outputs": [
    {
     "name": "stdout",
     "output_type": "stream",
     "text": [
      "Imported test data:  400\n",
      "Imported training data:  1600\n",
      "['bedroom', 'coast', 'forest', 'kitchen', 'livingroom', 'mountain', 'office', 'store', 'street', 'tallbuilding']\n"
     ]
    }
   ],
   "source": [
    "if not os.path.exists(os.path.join(os.getcwd(), 'results')):\n",
    "    os.makedirs(os.path.join(os.getcwd(), 'results'))\n",
    "\n",
    "#student_code start\n",
    "train_data = None\n",
    "test_data = None\n",
    "class_names = None\n",
    "\n",
    "# TODO SET MAX DATA PER LABEL = None BEFORE SUBMITTING\n",
    "train_data = dataset.SceneDataset('data/scene/train', maxDataPerLabel = None)\n",
    "test_data = dataset.SceneDataset('data/scene/test', maxDataPerLabel = None)\n",
    "class_names = train_data.class_names\n",
    "\n",
    "#test_images = test_data.images\n",
    "#train_images = train_data.images\n",
    "\n",
    "#student_code end\n",
    "print('Imported test data: ',len(test_data.images))\n",
    "print('Imported training data: ', len(train_data.images))\n",
    "print(class_names)\n"
   ]
  },
  {
   "cell_type": "markdown",
   "metadata": {},
   "source": [
    "## LIMIT DATA FOR FASTER DEVELOP REMOVE AT THE END!\\\n",
    "\n",
    "### See dataset.py"
   ]
  },
  {
   "cell_type": "markdown",
   "metadata": {},
   "source": [
    "###  2 Build Vocabulary and Clusters\n",
    "\n",
    "Extract SIFT features from the training data using ***features.extract_dsift(..)*** and then utilize the descriptors to generate visual words with ***KMeans(...).fit(...).cluster_centers_*** from ***sklearn.neighbors***. Set the sample size per image at about **100** and a step size around **5**. For cluster size, try a value around **50**. You can adapt the paramater to achieve better results. If clustering takes too long, have a look at the parameters **n_init** and **max_iter** of ***KMeans(...)***.\n",
    "\n",
    "_***HINT:***_\n",
    "***KMeans(..)*** expects the features to be a stacked 2D matrix instead of a list (np.vstack(...)).\n"
   ]
  },
  {
   "cell_type": "code",
   "execution_count": 3,
   "metadata": {},
   "outputs": [
    {
     "data": {
      "text/plain": [
       "(100, 100, 3)"
      ]
     },
     "execution_count": 3,
     "metadata": {},
     "output_type": "execute_result"
    }
   ],
   "source": [
    "#type(train_data.images[0])\n",
    "np.shape(train_data.images[0])"
   ]
  },
  {
   "cell_type": "code",
   "execution_count": null,
   "metadata": {},
   "outputs": [],
   "source": [
    "#student code start\n",
    "train_data.images\n",
    "dsift = features.extract_dsift(images = train_data.images,stepsize=5,num_samples=100)\n",
    "#student code end"
   ]
  },
  {
   "cell_type": "code",
   "execution_count": 7,
   "metadata": {},
   "outputs": [
    {
     "data": {
      "text/plain": [
       "1600"
      ]
     },
     "execution_count": 7,
     "metadata": {},
     "output_type": "execute_result"
    }
   ],
   "source": [
    "len(dsift)"
   ]
  },
  {
   "cell_type": "code",
   "execution_count": 6,
   "metadata": {},
   "outputs": [],
   "source": [
    "clusters = KMeans(n_clusters=50).fit(np.vstack(dsift)).cluster_centers_\n",
    "# ~2m 25s"
   ]
  },
  {
   "cell_type": "markdown",
   "metadata": {},
   "source": [
    "###  3 Classification\n",
    "\n",
    "Generat a histogram per image using the centroids. First extract the dense SIFT features of the training set again. This time use a smaller stepsize (eg. 1 or 2) and take all samples.\n",
    "\n",
    "After, implement ***count_visual_words(..)*** in ***features.py*** to obtain a histogram per image. Build a kNN classifier with ***KNeighborsClassifier(..)*** and fit the the model with the histogram data of the training images and training labels. Set the neighbourhood size to **3**.\n"
   ]
  },
  {
   "cell_type": "code",
   "execution_count": 8,
   "metadata": {},
   "outputs": [
    {
     "data": {
      "application/vnd.jupyter.widget-view+json": {
       "model_id": "3313e9812bd846d0b551bbf5ee526feb",
       "version_major": 2,
       "version_minor": 0
      },
      "text/plain": [
       "  0%|          | 0/1600 [00:00<?, ?it/s]"
      ]
     },
     "metadata": {},
     "output_type": "display_data"
    },
    {
     "name": "stdout",
     "output_type": "stream",
     "text": [
      "DSIFT Extraction: {5.396713036003348}  seconds\n"
     ]
    }
   ],
   "source": [
    "dense_desc = features.extract_dsift(images = train_data.images,stepsize=2,num_samples=100)"
   ]
  },
  {
   "cell_type": "code",
   "execution_count": 9,
   "metadata": {},
   "outputs": [
    {
     "data": {
      "text/plain": [
       "(50, 128)"
      ]
     },
     "execution_count": 9,
     "metadata": {},
     "output_type": "execute_result"
    }
   ],
   "source": [
    "np.shape(clusters)"
   ]
  },
  {
   "cell_type": "code",
   "execution_count": 31,
   "metadata": {},
   "outputs": [],
   "source": [
    "#student code start\n",
    "#https://datascience.stackexchange.com/questions/16143/what-is-the-procedure-to-create-a-bag-of-visual-words-model-with-sift\n",
    "\n",
    "#hist, bin_edges = features.count_visual_words(dense_feat=dense_desc,centroids=clusters)\n",
    "np.save('hist_save2.npy',hist)\n",
    "\n",
    "#student code end"
   ]
  },
  {
   "cell_type": "code",
   "execution_count": 32,
   "metadata": {},
   "outputs": [],
   "source": [
    "hist_save = np.copy(hist)"
   ]
  },
  {
   "cell_type": "code",
   "execution_count": 33,
   "metadata": {},
   "outputs": [
    {
     "data": {
      "text/plain": [
       "(1600, 51)"
      ]
     },
     "execution_count": 33,
     "metadata": {},
     "output_type": "execute_result"
    }
   ],
   "source": [
    "np.shape(train_data.labels)\n",
    "np.shape(hist)\n",
    "#train_data.labels"
   ]
  },
  {
   "cell_type": "code",
   "execution_count": 34,
   "metadata": {},
   "outputs": [
    {
     "data": {
      "text/plain": [
       "KNeighborsClassifier(n_neighbors=3)"
      ]
     },
     "execution_count": 34,
     "metadata": {},
     "output_type": "execute_result"
    }
   ],
   "source": [
    "#np.save('hist_save.npy',hist)\n",
    "from sklearn.neighbors import KNeighborsClassifier\n",
    "# Create KNN classifier\n",
    "knn = KNeighborsClassifier(n_neighbors = 3)\n",
    "knn.fit(X=hist,y=train_data.labels)"
   ]
  },
  {
   "cell_type": "markdown",
   "metadata": {},
   "source": [
    "### 4 Evaluation\n",
    "\n",
    "Examine the accuracy of your model by extracting the dense SIFT points of the test set with the same stepsize as before, generate the histogams and predict the labels of the test set with the previously fitted classifier. Plot your results with ***utils.plot_confusion_matrix(..)***.\n",
    "\n",
    "_***HINT:***_\n",
    "Use the methods ***predict(..)*** and ***score(..)*** on the KNN classifier.\n",
    "\n",
    "\n",
    "***Submission:*** Save the confusion matrix with the KNN score as **task3_accuracy_test_data.png** using ***utils.plot_confusion_matrix(..)***.\n",
    "\n"
   ]
  },
  {
   "cell_type": "code",
   "execution_count": 38,
   "metadata": {},
   "outputs": [
    {
     "data": {
      "application/vnd.jupyter.widget-view+json": {
       "model_id": "ba8fa07ceda14bf284a544f41fc1369b",
       "version_major": 2,
       "version_minor": 0
      },
      "text/plain": [
       "  0%|          | 0/400 [00:00<?, ?it/s]"
      ]
     },
     "metadata": {},
     "output_type": "display_data"
    },
    {
     "name": "stdout",
     "output_type": "stream",
     "text": [
      "DSIFT Extraction: {1.635738126002252}  seconds\n"
     ]
    },
    {
     "data": {
      "application/vnd.jupyter.widget-view+json": {
       "model_id": "a9cfb884aed44540997999b3dafff1c1",
       "version_major": 2,
       "version_minor": 0
      },
      "text/plain": [
       "  0%|          | 0/400 [00:00<?, ?it/s]"
      ]
     },
     "metadata": {},
     "output_type": "display_data"
    },
    {
     "name": "stdout",
     "output_type": "stream",
     "text": [
      "Counting visual words: {362.57456086599996}  seconds\n"
     ]
    }
   ],
   "source": [
    "#student code start\n",
    "dense_desc_test = features.extract_dsift(images = test_data.images,stepsize=2,num_samples=100)\n",
    "hist_test, bin_edges_test = features.count_visual_words(dense_feat=dense_desc_test,centroids=clusters)\n",
    "#student code end"
   ]
  },
  {
   "cell_type": "code",
   "execution_count": 41,
   "metadata": {},
   "outputs": [],
   "source": [
    "np.save('hist_test_save.npy',hist_test)"
   ]
  },
  {
   "cell_type": "code",
   "execution_count": 39,
   "metadata": {},
   "outputs": [
    {
     "name": "stdout",
     "output_type": "stream",
     "text": [
      "score = 0.365\n"
     ]
    }
   ],
   "source": [
    "predicts = knn.predict(hist_test)\n",
    "score = knn.score(hist_test,test_data.labels)\n",
    "print(f\"score = {score}\")"
   ]
  },
  {
   "cell_type": "code",
   "execution_count": 40,
   "metadata": {},
   "outputs": [
    {
     "data": {
      "image/png": "[encoded data removed]",
      "text/plain": [
       "<Figure size 432x288 with 1 Axes>"
      ]
     },
     "metadata": {
      "needs_background": "light"
     },
     "output_type": "display_data"
    }
   ],
   "source": [
    "utils.plot_confusion_matrix(test_data.labels, predicts, score, class_names, \n",
    "                          group_no = 'Group 9-11 11', name = \"task3_accuracy_test_data.png\")"
   ]
  },
  {
   "cell_type": "markdown",
   "metadata": {},
   "source": [
    "***\n",
    "#### Q1: Analyze the confusion matrix. Are there classes which can be more easily identified than others. What could be the reason? What classes perform worst, and explain your answer.\n"
   ]
  },
  {
   "cell_type": "markdown",
   "metadata": {},
   "source": [
    "#ANSWER HERE"
   ]
  },
  {
   "cell_type": "markdown",
   "metadata": {},
   "source": [
    "\n",
    "Take some own test images and investigate if they can be correctly classified with you trained model. For instance, take a photo of your own kitchen or living room and classify it. You should at least test one photo from three of the ten categories. Make sure the images are resized and cropped to 100x100.\n",
    "\n",
    "\n",
    "***Submission:*** Save the confusion matrix with the model score as **task3_accuracy_custom_data.png** using ***utils.plot_confusion_matrix(..)***.\n"
   ]
  },
  {
   "cell_type": "code",
   "execution_count": 53,
   "metadata": {},
   "outputs": [
    {
     "data": {
      "application/vnd.jupyter.widget-view+json": {
       "model_id": "02fb21456b084704ba8752202f22c231",
       "version_major": 2,
       "version_minor": 0
      },
      "text/plain": [
       "  0%|          | 0/17 [00:00<?, ?it/s]"
      ]
     },
     "metadata": {},
     "output_type": "display_data"
    },
    {
     "name": "stdout",
     "output_type": "stream",
     "text": [
      "DSIFT Extraction: {0.101791670997045}  seconds\n"
     ]
    },
    {
     "data": {
      "application/vnd.jupyter.widget-view+json": {
       "model_id": "3e0cc1bcae4b46bcb1186149e34ddfdc",
       "version_major": 2,
       "version_minor": 0
      },
      "text/plain": [
       "  0%|          | 0/17 [00:00<?, ?it/s]"
      ]
     },
     "metadata": {},
     "output_type": "display_data"
    },
    {
     "name": "stdout",
     "output_type": "stream",
     "text": [
      "Counting visual words: {17.10883543000091}  seconds\n",
      "score = 0.365\n"
     ]
    },
    {
     "data": {
      "image/png": "[encoded data removed]",
      "text/plain": [
       "<Figure size 432x288 with 1 Axes>"
      ]
     },
     "metadata": {
      "needs_background": "light"
     },
     "output_type": "display_data"
    },
    {
     "name": "stdout",
     "output_type": "stream",
     "text": [
      "[2 3 3 2 4 3 1 1 2 4 3 4 1 7 8 5 3]\n"
     ]
    }
   ],
   "source": [
    "#student code start\n",
    "# I added an img for each category otherwise the class labels would be wrong \n",
    "test_data_own = dataset.SceneDataset('data/own', maxDataPerLabel = None, resize=True)\n",
    "class_names_own = test_data_own.class_names\n",
    "\n",
    "dense_desc_test_own = features.extract_dsift(images = test_data_own.images,stepsize=2,num_samples=100)\n",
    "hist_test_own, bin_edges_test_own = features.count_visual_words(dense_feat=dense_desc_test_own,centroids=clusters)\n",
    "\n",
    "predicts_own = knn.predict(hist_test_own)\n",
    "score_own = knn.score(hist_test_own,test_data_own.labels)\n",
    "print(f\"score = {score}\")\n",
    "utils.plot_confusion_matrix(test_data_own.labels, predicts_own, score_own, class_names_own, \n",
    "                          group_no = 'Group 9-11 11', name = \"task3_accuracy_custom_data.png\")\n",
    "\n",
    "print(predicts_own)\n",
    "\n",
    "#student code end"
   ]
  },
  {
   "cell_type": "code",
   "execution_count": 54,
   "metadata": {},
   "outputs": [
    {
     "data": {
      "text/plain": [
       "['kitchen',\n",
       " 'livingroom',\n",
       " 'mountain',\n",
       " 'office',\n",
       " 'bedroom',\n",
       " 'coast',\n",
       " 'forest',\n",
       " 'store',\n",
       " 'street',\n",
       " 'tallbuilding']"
      ]
     },
     "execution_count": 54,
     "metadata": {},
     "output_type": "execute_result"
    }
   ],
   "source": [
    "class_names_own\n",
    "\n"
   ]
  }
 ],
 "metadata": {
  "interpreter": {
   "hash": "559e0089bb98c0906a38be0b5b38443aa40396a9c7441fa44534224d60dd5600"
  },
  "kernelspec": {
   "display_name": "Python 3",
   "language": "python",
   "name": "python3"
  },
  "language_info": {
   "codemirror_mode": {
    "name": "ipython",
    "version": 3
   },
   "file_extension": ".py",
   "mimetype": "text/x-python",
   "name": "python",
   "nbconvert_exporter": "python",
   "pygments_lexer": "ipython3",
   "version": "3.9.0"
  }
 },
 "nbformat": 4,
 "nbformat_minor": 4
}
