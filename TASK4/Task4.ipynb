{
 "cells": [
  {
   "cell_type": "markdown",
   "metadata": {},
   "source": [
    "## TASK 4 - Scene Recognition using Convolutional Neural Networks\n",
    "\n",
    "Group Number: Group_9-11_11\n"
   ]
  },
  {
   "cell_type": "code",
   "execution_count": 2,
   "metadata": {},
   "outputs": [
    {
     "name": "stdout",
     "output_type": "stream",
     "text": [
      "The autoreload extension is already loaded. To reload it, use:\n",
      "  %reload_ext autoreload\n",
      "GPU is used\n"
     ]
    }
   ],
   "source": [
    "%load_ext autoreload\n",
    "%autoreload 1\n",
    "%aimport my_model, utils, my_datamodule, my_model, my_trainer\n",
    "%matplotlib inline\n",
    "import os\n",
    "\n",
    "import numpy as np\n",
    "import torch\n",
    "from torchinfo import summary\n",
    "\n",
    "import my_datamodule\n",
    "import my_model\n",
    "import my_trainer\n",
    "import utils\n",
    "\n",
    "torch.manual_seed(30)\n",
    "np.random.seed(30)\n",
    "\n",
    "if not os.path.exists(os.path.join(os.getcwd(), 'results')):\n",
    "    os.makedirs(os.path.join(os.getcwd(), 'results'))\n",
    "\n",
    "# Check GPU connection\n",
    "gpu_active = torch.cuda.is_available()\n",
    "print(\"GPU is used\" if gpu_active else \"CPU is used\")\n"
   ]
  },
  {
   "cell_type": "markdown",
   "metadata": {},
   "source": [
    "### 1. Data import and Preparation\n",
    "\n",
    "In TASK3 we used a common computer vision processing step for classification problems in computer vision - manual feature extraction. This time we want to use a learning approach which does not need handcrafted inputs. \n",
    "\n",
    "Implement the **get_transforms** method. Make sure it returns a transformation that maps input images to tensor values and resizes them to a square image.\n",
    "\n",
    "For simplicity and actuality you will detect if a person wears a face mask or not. Follow the instructions in the assignment description. Implement the get_transform method of **my_datamodule.DataModule** and create an instance of **DataModule**. Use an image size of 64 and a batch_size around **64**. Depending on your processor you can increase the amount of threads that load data with the parameter **num_worker**. For example use **num_workers=4** to start four worker threads for data loading and preprocessing. "
   ]
  },
  {
   "cell_type": "code",
   "execution_count": 3,
   "metadata": {},
   "outputs": [],
   "source": [
    "datamodule = my_datamodule.DataModule(img_size=64, batch_size=64)"
   ]
  },
  {
   "cell_type": "markdown",
   "metadata": {},
   "source": [
    "### 2. Simple Scene CNN\n",
    "#### 2.1 Network Structure\n",
    "\n",
    "This section will familiarize you with the steps of creating a deep artificial neural network from scratch. Implement the **__init__** and **forward** methods of **my_model.MaskClassifier** according to the instructions.\n",
    "\n",
    "Create a simple classification model using ***model=my_model.MaskClassifier(..)***. Set the image size to **64** (the dataset will be proccessed to squared images) and drop out value to **0**.\n",
    "\n",
    "Take a look at the structure of your model by calling ***summary(model, (32, 3, img_size, img_size))***"
   ]
  },
  {
   "cell_type": "code",
   "execution_count": 15,
   "metadata": {
    "scrolled": true
   },
   "outputs": [],
   "source": [
    "simple_model = my_model.MaskClassifier(\"simple_model\", 64, 0)"
   ]
  },
  {
   "cell_type": "code",
   "execution_count": 16,
   "metadata": {},
   "outputs": [
    {
     "data": {
      "text/plain": [
       "==========================================================================================\n",
       "Layer (type:depth-idx)                   Output Shape              Param #\n",
       "==========================================================================================\n",
       "MaskClassifier                           --                        --\n",
       "├─Sequential: 1-1                        [32, 128, 4, 4]           --\n",
       "│    └─Conv2d: 2-1                       [32, 32, 64, 64]          896\n",
       "│    └─ReLU: 2-2                         [32, 32, 64, 64]          --\n",
       "│    └─BatchNorm2d: 2-3                  [32, 32, 64, 64]          64\n",
       "│    └─MaxPool2d: 2-4                    [32, 32, 32, 32]          --\n",
       "│    └─Dropout: 2-5                      [32, 32, 32, 32]          --\n",
       "│    └─Conv2d: 2-6                       [32, 64, 32, 32]          18,496\n",
       "│    └─ReLU: 2-7                         [32, 64, 32, 32]          --\n",
       "│    └─BatchNorm2d: 2-8                  [32, 64, 32, 32]          128\n",
       "│    └─MaxPool2d: 2-9                    [32, 64, 16, 16]          --\n",
       "│    └─Dropout: 2-10                     [32, 64, 16, 16]          --\n",
       "│    └─Conv2d: 2-11                      [32, 128, 16, 16]         73,856\n",
       "│    └─ReLU: 2-12                        [32, 128, 16, 16]         --\n",
       "│    └─BatchNorm2d: 2-13                 [32, 128, 16, 16]         256\n",
       "│    └─MaxPool2d: 2-14                   [32, 128, 8, 8]           --\n",
       "│    └─Dropout: 2-15                     [32, 128, 8, 8]           --\n",
       "│    └─Conv2d: 2-16                      [32, 128, 8, 8]           147,584\n",
       "│    └─ReLU: 2-17                        [32, 128, 8, 8]           --\n",
       "│    └─BatchNorm2d: 2-18                 [32, 128, 8, 8]           256\n",
       "│    └─MaxPool2d: 2-19                   [32, 128, 4, 4]           --\n",
       "│    └─Dropout: 2-20                     [32, 128, 4, 4]           --\n",
       "├─Sequential: 1-2                        [32, 1]                   --\n",
       "│    └─Linear: 2-21                      [32, 512]                 1,049,088\n",
       "│    └─ReLU: 2-22                        [32, 512]                 --\n",
       "│    └─Dropout: 2-23                     [32, 512]                 --\n",
       "│    └─Linear: 2-24                      [32, 256]                 131,328\n",
       "│    └─ReLU: 2-25                        [32, 256]                 --\n",
       "│    └─Dropout: 2-26                     [32, 256]                 --\n",
       "│    └─Linear: 2-27                      [32, 10]                  2,570\n",
       "│    └─ReLU: 2-28                        [32, 10]                  --\n",
       "│    └─Dropout: 2-29                     [32, 10]                  --\n",
       "│    └─Linear: 2-30                      [32, 1]                   11\n",
       "│    └─Sigmoid: 2-31                     [32, 1]                   --\n",
       "==========================================================================================\n",
       "Total params: 1,424,533\n",
       "Trainable params: 1,424,533\n",
       "Non-trainable params: 0\n",
       "Total mult-adds (G): 1.67\n",
       "==========================================================================================\n",
       "Input size (MB): 1.57\n",
       "Forward/backward pass size (MB): 121.83\n",
       "Params size (MB): 5.70\n",
       "Estimated Total Size (MB): 129.11\n",
       "=========================================================================================="
      ]
     },
     "execution_count": 16,
     "metadata": {},
     "output_type": "execute_result"
    }
   ],
   "source": [
    "summary(simple_model, (32, 3, 64, 64))"
   ]
  },
  {
   "cell_type": "markdown",
   "metadata": {},
   "source": [
    "***\n",
    "#### Q1: Take a look at the structure of the MaskClassifier CNN. What does the column 'Output Shape' represent? What does the column Param represent? Why is the shape decreasing? Finally, explain why the last layer has length 1. "
   ]
  },
  {
   "cell_type": "markdown",
   "metadata": {},
   "source": [
    "#ANSWER HERE"
   ]
  },
  {
   "cell_type": "markdown",
   "metadata": {},
   "source": [
    "#### 2.2 Training \n",
    "\n",
    "In this step you will train the model with the training and validation data set iterator. The **my_trainer** module provides functionality for training and logging the learning progress.\n",
    "\n",
    "First create a trainer instance using my_trainer.Trainer(...) and pass the previosuly created model and datamodule to it. If you have a device that supports cuda you can pass **gpu=True** to speed up training. Use trainer.fit(...) to start the training process. Depending on wether you use a GPU or CPU and the number of epochs, the training can take a while. Start with a learning rate of **0.0001** and **50** epochs. The loss should decrease and the accuracy on the validation should increase. The weights of the best model are saved in separate files in your results directory automatically."
   ]
  },
  {
   "cell_type": "code",
   "execution_count": 17,
   "metadata": {},
   "outputs": [
    {
     "name": "stderr",
     "output_type": "stream",
     "text": [
      "Epoch 0: 100%|██████████| 42/42 [00:09<00:00,  4.64it/s]\n"
     ]
    },
    {
     "name": "stdout",
     "output_type": "stream",
     "text": [
      "Epoch 0 Training: Loss: 0.6276228427886963 Accuracy: 0.5440133213996887\n",
      "Epoch 0 Validation: Loss: 0.5347055196762085 Accuracy: 0.5000868439674377\n"
     ]
    },
    {
     "name": "stderr",
     "output_type": "stream",
     "text": [
      "Epoch 1: 100%|██████████| 42/42 [00:08<00:00,  4.68it/s]\n"
     ]
    },
    {
     "name": "stdout",
     "output_type": "stream",
     "text": [
      "Epoch 1 Training: Loss: 0.42055320739746094 Accuracy: 0.690018355846405\n",
      "Epoch 1 Validation: Loss: 0.2793927490711212 Accuracy: 0.9164062142372131\n"
     ]
    },
    {
     "name": "stderr",
     "output_type": "stream",
     "text": [
      "Epoch 2: 100%|██████████| 42/42 [00:08<00:00,  5.04it/s]\n"
     ]
    },
    {
     "name": "stdout",
     "output_type": "stream",
     "text": [
      "Epoch 2 Training: Loss: 0.35012590885162354 Accuracy: 0.7160599827766418\n",
      "Epoch 2 Validation: Loss: 0.2021065503358841 Accuracy: 0.945225715637207\n"
     ]
    },
    {
     "name": "stderr",
     "output_type": "stream",
     "text": [
      "Epoch 3: 100%|██████████| 42/42 [00:08<00:00,  5.07it/s]\n"
     ]
    },
    {
     "name": "stdout",
     "output_type": "stream",
     "text": [
      "Epoch 3 Training: Loss: 0.2815398573875427 Accuracy: 0.7646519541740417\n",
      "Epoch 3 Validation: Loss: 0.15953944623470306 Accuracy: 0.9582465291023254\n"
     ]
    },
    {
     "name": "stderr",
     "output_type": "stream",
     "text": [
      "Epoch 4: 100%|██████████| 42/42 [00:08<00:00,  5.01it/s]\n"
     ]
    },
    {
     "name": "stdout",
     "output_type": "stream",
     "text": [
      "Epoch 4 Training: Loss: 0.2533528804779053 Accuracy: 0.8389995098114014\n",
      "Epoch 4 Validation: Loss: 0.13216859102249146 Accuracy: 0.9568576812744141\n"
     ]
    },
    {
     "name": "stderr",
     "output_type": "stream",
     "text": [
      "Epoch 5: 100%|██████████| 42/42 [00:08<00:00,  4.93it/s]\n"
     ]
    },
    {
     "name": "stdout",
     "output_type": "stream",
     "text": [
      "Epoch 5 Training: Loss: 0.18977077305316925 Accuracy: 0.8628662824630737\n",
      "Epoch 5 Validation: Loss: 0.09556535631418228 Accuracy: 0.9711806178092957\n"
     ]
    },
    {
     "name": "stderr",
     "output_type": "stream",
     "text": [
      "Epoch 6: 100%|██████████| 42/42 [00:08<00:00,  4.91it/s]\n"
     ]
    },
    {
     "name": "stdout",
     "output_type": "stream",
     "text": [
      "Epoch 6 Training: Loss: 0.15904265642166138 Accuracy: 0.8644402623176575\n",
      "Epoch 6 Validation: Loss: 0.08684859424829483 Accuracy: 0.9712674021720886\n"
     ]
    },
    {
     "name": "stderr",
     "output_type": "stream",
     "text": [
      "Epoch 7: 100%|██████████| 42/42 [00:08<00:00,  4.85it/s]\n"
     ]
    },
    {
     "name": "stdout",
     "output_type": "stream",
     "text": [
      "Epoch 7 Training: Loss: 0.13837118446826935 Accuracy: 0.860090434551239\n",
      "Epoch 7 Validation: Loss: 0.08409031480550766 Accuracy: 0.9750868678092957\n"
     ]
    },
    {
     "name": "stderr",
     "output_type": "stream",
     "text": [
      "Epoch 8: 100%|██████████| 42/42 [00:08<00:00,  4.70it/s]\n"
     ]
    },
    {
     "name": "stdout",
     "output_type": "stream",
     "text": [
      "Epoch 8 Training: Loss: 0.1147940382361412 Accuracy: 0.8829269409179688\n",
      "Epoch 8 Validation: Loss: 0.09465806931257248 Accuracy: 0.9763889312744141\n"
     ]
    },
    {
     "name": "stderr",
     "output_type": "stream",
     "text": [
      "Epoch 9: 100%|██████████| 42/42 [00:08<00:00,  4.77it/s]\n"
     ]
    },
    {
     "name": "stdout",
     "output_type": "stream",
     "text": [
      "Epoch 9 Training: Loss: 0.12085888534784317 Accuracy: 0.8664148449897766\n",
      "Epoch 9 Validation: Loss: 0.12082499265670776 Accuracy: 0.9737847447395325\n"
     ]
    },
    {
     "name": "stderr",
     "output_type": "stream",
     "text": [
      "Epoch 10: 100%|██████████| 42/42 [00:09<00:00,  4.61it/s]\n"
     ]
    },
    {
     "name": "stdout",
     "output_type": "stream",
     "text": [
      "Epoch 10 Training: Loss: 0.11772745847702026 Accuracy: 0.8710507750511169\n",
      "Epoch 10 Validation: Loss: 0.08937264233827591 Accuracy: 0.972569465637207\n"
     ]
    },
    {
     "name": "stderr",
     "output_type": "stream",
     "text": [
      "Epoch 11: 100%|██████████| 42/42 [00:08<00:00,  4.92it/s]\n"
     ]
    },
    {
     "name": "stdout",
     "output_type": "stream",
     "text": [
      "Epoch 11 Training: Loss: 0.10933736711740494 Accuracy: 0.8703926801681519\n",
      "Epoch 11 Validation: Loss: 0.07717988640069962 Accuracy: 0.9817708134651184\n"
     ]
    },
    {
     "name": "stderr",
     "output_type": "stream",
     "text": [
      "Epoch 12: 100%|██████████| 42/42 [00:08<00:00,  5.19it/s]\n"
     ]
    },
    {
     "name": "stdout",
     "output_type": "stream",
     "text": [
      "Epoch 12 Training: Loss: 0.09951560944318771 Accuracy: 0.876802921295166\n",
      "Epoch 12 Validation: Loss: 0.07366219907999039 Accuracy: 0.98046875\n"
     ]
    },
    {
     "name": "stderr",
     "output_type": "stream",
     "text": [
      "Epoch 13: 100%|██████████| 42/42 [00:08<00:00,  4.90it/s]\n"
     ]
    },
    {
     "name": "stdout",
     "output_type": "stream",
     "text": [
      "Epoch 13 Training: Loss: 0.10229784995317459 Accuracy: 0.8717948198318481\n",
      "Epoch 13 Validation: Loss: 0.13003993034362793 Accuracy: 0.9776909947395325\n"
     ]
    },
    {
     "name": "stderr",
     "output_type": "stream",
     "text": [
      "Epoch 14: 100%|██████████| 42/42 [00:08<00:00,  4.93it/s]\n"
     ]
    },
    {
     "name": "stdout",
     "output_type": "stream",
     "text": [
      "Epoch 14 Training: Loss: 0.11738692224025726 Accuracy: 0.8638964891433716\n",
      "Epoch 14 Validation: Loss: 0.1565481424331665 Accuracy: 0.9684895873069763\n"
     ]
    },
    {
     "name": "stderr",
     "output_type": "stream",
     "text": [
      "Epoch 15: 100%|██████████| 42/42 [00:08<00:00,  4.94it/s]\n"
     ]
    },
    {
     "name": "stdout",
     "output_type": "stream",
     "text": [
      "Epoch 15 Training: Loss: 0.10675879567861557 Accuracy: 0.8717089891433716\n",
      "Epoch 15 Validation: Loss: 0.08850250393152237 Accuracy: 0.9828993678092957\n"
     ]
    },
    {
     "name": "stderr",
     "output_type": "stream",
     "text": [
      "Epoch 16: 100%|██████████| 42/42 [00:08<00:00,  5.14it/s]\n"
     ]
    },
    {
     "name": "stdout",
     "output_type": "stream",
     "text": [
      "Epoch 16 Training: Loss: 0.10316983610391617 Accuracy: 0.8709649443626404\n",
      "Epoch 16 Validation: Loss: 0.09040842205286026 Accuracy: 0.9802951812744141\n"
     ]
    },
    {
     "name": "stderr",
     "output_type": "stream",
     "text": [
      "Epoch 17: 100%|██████████| 42/42 [00:08<00:00,  4.74it/s]\n"
     ]
    },
    {
     "name": "stdout",
     "output_type": "stream",
     "text": [
      "Epoch 17 Training: Loss: 0.09643249213695526 Accuracy: 0.877289354801178\n",
      "Epoch 17 Validation: Loss: 0.09129935503005981 Accuracy: 0.984288215637207\n"
     ]
    },
    {
     "name": "stderr",
     "output_type": "stream",
     "text": [
      "Epoch 18: 100%|██████████| 42/42 [00:09<00:00,  4.67it/s]\n"
     ]
    },
    {
     "name": "stdout",
     "output_type": "stream",
     "text": [
      "Epoch 18 Training: Loss: 0.09631679207086563 Accuracy: 0.8763450384140015\n",
      "Epoch 18 Validation: Loss: 0.08423864841461182 Accuracy: 0.9829861521720886\n"
     ]
    },
    {
     "name": "stderr",
     "output_type": "stream",
     "text": [
      "Epoch 19: 100%|██████████| 42/42 [00:08<00:00,  4.76it/s]\n"
     ]
    },
    {
     "name": "stdout",
     "output_type": "stream",
     "text": [
      "Epoch 19 Training: Loss: 0.09552589058876038 Accuracy: 0.8754006624221802\n",
      "Epoch 19 Validation: Loss: 0.09809821844100952 Accuracy: 0.980381965637207\n"
     ]
    },
    {
     "name": "stderr",
     "output_type": "stream",
     "text": [
      "Epoch 20: 100%|██████████| 42/42 [00:09<00:00,  4.32it/s]\n"
     ]
    },
    {
     "name": "stdout",
     "output_type": "stream",
     "text": [
      "Epoch 20 Training: Loss: 0.09534112364053726 Accuracy: 0.8744276165962219\n",
      "Epoch 20 Validation: Loss: 0.09757088869810104 Accuracy: 0.9842014312744141\n"
     ]
    },
    {
     "name": "stderr",
     "output_type": "stream",
     "text": [
      "Epoch 21: 100%|██████████| 42/42 [00:08<00:00,  4.84it/s]\n"
     ]
    },
    {
     "name": "stdout",
     "output_type": "stream",
     "text": [
      "Epoch 21 Training: Loss: 0.10067324340343475 Accuracy: 0.8670444488525391\n",
      "Epoch 21 Validation: Loss: 0.10347970575094223 Accuracy: 0.980381965637207\n"
     ]
    },
    {
     "name": "stderr",
     "output_type": "stream",
     "text": [
      "Epoch 22: 100%|██████████| 42/42 [00:08<00:00,  4.88it/s]\n"
     ]
    },
    {
     "name": "stdout",
     "output_type": "stream",
     "text": [
      "Epoch 22 Training: Loss: 0.09882857650518417 Accuracy: 0.8710507750511169\n",
      "Epoch 22 Validation: Loss: 0.10473766177892685 Accuracy: 0.9842014312744141\n"
     ]
    },
    {
     "name": "stderr",
     "output_type": "stream",
     "text": [
      "Epoch 23: 100%|██████████| 42/42 [00:08<00:00,  4.87it/s]\n"
     ]
    },
    {
     "name": "stdout",
     "output_type": "stream",
     "text": [
      "Epoch 23 Training: Loss: 0.09039261937141418 Accuracy: 0.8804087042808533\n",
      "Epoch 23 Validation: Loss: 0.102518729865551 Accuracy: 0.9815972447395325\n"
     ]
    },
    {
     "name": "stderr",
     "output_type": "stream",
     "text": [
      "Epoch 24: 100%|██████████| 42/42 [00:09<00:00,  4.57it/s]\n"
     ]
    },
    {
     "name": "stdout",
     "output_type": "stream",
     "text": [
      "Epoch 24 Training: Loss: 0.09480054676532745 Accuracy: 0.8738266825675964\n",
      "Epoch 24 Validation: Loss: 0.14274601638317108 Accuracy: 0.9790799021720886\n"
     ]
    },
    {
     "name": "stderr",
     "output_type": "stream",
     "text": [
      "Epoch 25: 100%|██████████| 42/42 [00:09<00:00,  4.30it/s]\n"
     ]
    },
    {
     "name": "stdout",
     "output_type": "stream",
     "text": [
      "Epoch 25 Training: Loss: 0.12215238809585571 Accuracy: 0.8580872416496277\n",
      "Epoch 25 Validation: Loss: 0.20720267295837402 Accuracy: 0.9645833373069763\n"
     ]
    },
    {
     "name": "stderr",
     "output_type": "stream",
     "text": [
      "Epoch 26: 100%|██████████| 42/42 [00:08<00:00,  5.15it/s]\n"
     ]
    },
    {
     "name": "stdout",
     "output_type": "stream",
     "text": [
      "Epoch 26 Training: Loss: 0.12859651446342468 Accuracy: 0.8623225688934326\n",
      "Epoch 26 Validation: Loss: 0.11501950770616531 Accuracy: 0.9752604365348816\n"
     ]
    },
    {
     "name": "stderr",
     "output_type": "stream",
     "text": [
      "Epoch 27: 100%|██████████| 42/42 [00:08<00:00,  4.96it/s]\n"
     ]
    },
    {
     "name": "stdout",
     "output_type": "stream",
     "text": [
      "Epoch 27 Training: Loss: 0.10854918509721756 Accuracy: 0.8702208995819092\n",
      "Epoch 27 Validation: Loss: 0.10164665430784225 Accuracy: 0.9738715291023254\n"
     ]
    },
    {
     "name": "stderr",
     "output_type": "stream",
     "text": [
      "Epoch 28: 100%|██████████| 42/42 [00:08<00:00,  4.94it/s]\n"
     ]
    },
    {
     "name": "stdout",
     "output_type": "stream",
     "text": [
      "Epoch 28 Training: Loss: 0.10328271239995956 Accuracy: 0.8763450384140015\n",
      "Epoch 28 Validation: Loss: 0.11296788603067398 Accuracy: 0.9777777791023254\n"
     ]
    },
    {
     "name": "stderr",
     "output_type": "stream",
     "text": [
      "Epoch 29: 100%|██████████| 42/42 [00:09<00:00,  4.59it/s]\n"
     ]
    },
    {
     "name": "stdout",
     "output_type": "stream",
     "text": [
      "Epoch 29 Training: Loss: 0.09696643799543381 Accuracy: 0.8724244236946106\n",
      "Epoch 29 Validation: Loss: 0.09602364897727966 Accuracy: 0.9778645634651184\n"
     ]
    },
    {
     "name": "stderr",
     "output_type": "stream",
     "text": [
      "Epoch 30: 100%|██████████| 42/42 [00:10<00:00,  4.18it/s]\n"
     ]
    },
    {
     "name": "stdout",
     "output_type": "stream",
     "text": [
      "Epoch 30 Training: Loss: 0.092568039894104 Accuracy: 0.8774611353874207\n",
      "Epoch 30 Validation: Loss: 0.10266069322824478 Accuracy: 0.9791666865348816\n"
     ]
    },
    {
     "name": "stderr",
     "output_type": "stream",
     "text": [
      "Epoch 31: 100%|██████████| 42/42 [00:11<00:00,  3.56it/s]\n"
     ]
    },
    {
     "name": "stdout",
     "output_type": "stream",
     "text": [
      "Epoch 31 Training: Loss: 0.08748314529657364 Accuracy: 0.8838713765144348\n",
      "Epoch 31 Validation: Loss: 0.10763172060251236 Accuracy: 0.9778645634651184\n"
     ]
    },
    {
     "name": "stderr",
     "output_type": "stream",
     "text": [
      "Epoch 32: 100%|██████████| 42/42 [00:11<00:00,  3.61it/s]\n"
     ]
    },
    {
     "name": "stdout",
     "output_type": "stream",
     "text": [
      "Epoch 32 Training: Loss: 0.08992856740951538 Accuracy: 0.8789492249488831\n",
      "Epoch 32 Validation: Loss: 0.10486575961112976 Accuracy: 0.9778645634651184\n"
     ]
    },
    {
     "name": "stderr",
     "output_type": "stream",
     "text": [
      "Epoch 33: 100%|██████████| 42/42 [00:12<00:00,  3.24it/s]\n"
     ]
    },
    {
     "name": "stdout",
     "output_type": "stream",
     "text": [
      "Epoch 33 Training: Loss: 0.0993465781211853 Accuracy: 0.8641541004180908\n",
      "Epoch 33 Validation: Loss: 0.10643013566732407 Accuracy: 0.9817708134651184\n"
     ]
    },
    {
     "name": "stderr",
     "output_type": "stream",
     "text": [
      "Epoch 34: 100%|██████████| 42/42 [00:12<00:00,  3.30it/s]\n"
     ]
    },
    {
     "name": "stdout",
     "output_type": "stream",
     "text": [
      "Epoch 34 Training: Loss: 0.09473288804292679 Accuracy: 0.8727392554283142\n",
      "Epoch 34 Validation: Loss: 0.10840851813554764 Accuracy: 0.9817708134651184\n"
     ]
    },
    {
     "name": "stderr",
     "output_type": "stream",
     "text": [
      "Epoch 35: 100%|██████████| 42/42 [00:13<00:00,  3.20it/s]\n"
     ]
    },
    {
     "name": "stdout",
     "output_type": "stream",
     "text": [
      "Epoch 35 Training: Loss: 0.08642251044511795 Accuracy: 0.8829555511474609\n",
      "Epoch 35 Validation: Loss: 0.11092421412467957 Accuracy: 0.9830729365348816\n"
     ]
    },
    {
     "name": "stderr",
     "output_type": "stream",
     "text": [
      "Epoch 36: 100%|██████████| 42/42 [00:25<00:00,  1.65it/s]\n"
     ]
    },
    {
     "name": "stdout",
     "output_type": "stream",
     "text": [
      "Epoch 36 Training: Loss: 0.08602923154830933 Accuracy: 0.8812671899795532\n",
      "Epoch 36 Validation: Loss: 0.11642087250947952 Accuracy: 0.9817708134651184\n"
     ]
    },
    {
     "name": "stderr",
     "output_type": "stream",
     "text": [
      "Epoch 37: 100%|██████████| 42/42 [00:16<00:00,  2.57it/s]\n"
     ]
    },
    {
     "name": "stdout",
     "output_type": "stream",
     "text": [
      "Epoch 37 Training: Loss: 0.08974888920783997 Accuracy: 0.8759730458259583\n",
      "Epoch 37 Validation: Loss: 0.11823027580976486 Accuracy: 0.9830729365348816\n"
     ]
    },
    {
     "name": "stderr",
     "output_type": "stream",
     "text": [
      "Epoch 38: 100%|██████████| 42/42 [00:10<00:00,  3.90it/s]\n"
     ]
    },
    {
     "name": "stdout",
     "output_type": "stream",
     "text": [
      "Epoch 38 Training: Loss: 0.09220031648874283 Accuracy: 0.8736549615859985\n",
      "Epoch 38 Validation: Loss: 0.12390794605016708 Accuracy: 0.9817708134651184\n"
     ]
    },
    {
     "name": "stderr",
     "output_type": "stream",
     "text": [
      "Epoch 39: 100%|██████████| 42/42 [00:10<00:00,  4.15it/s]\n"
     ]
    },
    {
     "name": "stdout",
     "output_type": "stream",
     "text": [
      "Epoch 39 Training: Loss: 0.09420982748270035 Accuracy: 0.869476854801178\n",
      "Epoch 39 Validation: Loss: 0.11477885395288467 Accuracy: 0.9830729365348816\n"
     ]
    },
    {
     "name": "stderr",
     "output_type": "stream",
     "text": [
      "Epoch 40: 100%|██████████| 42/42 [00:10<00:00,  4.11it/s]\n"
     ]
    },
    {
     "name": "stdout",
     "output_type": "stream",
     "text": [
      "Epoch 40 Training: Loss: 0.0876956507563591 Accuracy: 0.878004789352417\n",
      "Epoch 40 Validation: Loss: 0.12276684492826462 Accuracy: 0.9830729365348816\n"
     ]
    },
    {
     "name": "stderr",
     "output_type": "stream",
     "text": [
      "Epoch 41: 100%|██████████| 42/42 [00:12<00:00,  3.27it/s]\n"
     ]
    },
    {
     "name": "stdout",
     "output_type": "stream",
     "text": [
      "Epoch 41 Training: Loss: 0.08680474758148193 Accuracy: 0.8789492249488831\n",
      "Epoch 41 Validation: Loss: 0.11902422457933426 Accuracy: 0.984375\n"
     ]
    },
    {
     "name": "stderr",
     "output_type": "stream",
     "text": [
      "Epoch 42: 100%|██████████| 42/42 [00:18<00:00,  2.33it/s]\n"
     ]
    },
    {
     "name": "stdout",
     "output_type": "stream",
     "text": [
      "Epoch 42 Training: Loss: 0.08336611837148666 Accuracy: 0.8837855458259583\n",
      "Epoch 42 Validation: Loss: 0.12121137976646423 Accuracy: 0.9830729365348816\n"
     ]
    },
    {
     "name": "stderr",
     "output_type": "stream",
     "text": [
      "Epoch 43: 100%|██████████| 42/42 [00:25<00:00,  1.67it/s]\n"
     ]
    },
    {
     "name": "stdout",
     "output_type": "stream",
     "text": [
      "Epoch 43 Training: Loss: 0.09165854752063751 Accuracy: 0.8724244236946106\n",
      "Epoch 43 Validation: Loss: 0.1284904032945633 Accuracy: 0.984375\n"
     ]
    },
    {
     "name": "stderr",
     "output_type": "stream",
     "text": [
      "Epoch 44: 100%|██████████| 42/42 [00:13<00:00,  3.22it/s]\n"
     ]
    },
    {
     "name": "stdout",
     "output_type": "stream",
     "text": [
      "Epoch 44 Training: Loss: 0.09394599497318268 Accuracy: 0.867902934551239\n",
      "Epoch 44 Validation: Loss: 0.12668855488300323 Accuracy: 0.984375\n"
     ]
    },
    {
     "name": "stderr",
     "output_type": "stream",
     "text": [
      "Epoch 45: 100%|██████████| 42/42 [00:12<00:00,  3.48it/s]\n"
     ]
    },
    {
     "name": "stdout",
     "output_type": "stream",
     "text": [
      "Epoch 45 Training: Loss: 0.08332577347755432 Accuracy: 0.8831273317337036\n",
      "Epoch 45 Validation: Loss: 0.1290377527475357 Accuracy: 0.984375\n"
     ]
    },
    {
     "name": "stderr",
     "output_type": "stream",
     "text": [
      "Epoch 46: 100%|██████████| 42/42 [00:08<00:00,  4.90it/s]\n"
     ]
    },
    {
     "name": "stdout",
     "output_type": "stream",
     "text": [
      "Epoch 46 Training: Loss: 0.09291096776723862 Accuracy: 0.8704785108566284\n",
      "Epoch 46 Validation: Loss: 0.13006505370140076 Accuracy: 0.984375\n"
     ]
    },
    {
     "name": "stderr",
     "output_type": "stream",
     "text": [
      "Epoch 47: 100%|██████████| 42/42 [00:08<00:00,  4.71it/s]\n"
     ]
    },
    {
     "name": "stdout",
     "output_type": "stream",
     "text": [
      "Epoch 47 Training: Loss: 0.08742105215787888 Accuracy: 0.9036458134651184\n",
      "Epoch 47 Validation: Loss: 0.13164351880550385 Accuracy: 0.984375\n"
     ]
    },
    {
     "name": "stderr",
     "output_type": "stream",
     "text": [
      "Epoch 48: 100%|██████████| 42/42 [00:10<00:00,  4.15it/s]\n"
     ]
    },
    {
     "name": "stdout",
     "output_type": "stream",
     "text": [
      "Epoch 48 Training: Loss: 0.08412874490022659 Accuracy: 0.9977678656578064\n",
      "Epoch 48 Validation: Loss: 0.13519716262817383 Accuracy: 0.9830729365348816\n"
     ]
    },
    {
     "name": "stderr",
     "output_type": "stream",
     "text": [
      "Epoch 49: 100%|██████████| 42/42 [00:10<00:00,  3.89it/s]\n"
     ]
    },
    {
     "name": "stdout",
     "output_type": "stream",
     "text": [
      "Epoch 49 Training: Loss: 0.08767793327569962 Accuracy: 0.9973958134651184\n",
      "Epoch 49 Validation: Loss: 0.131913959980011 Accuracy: 0.984375\n"
     ]
    }
   ],
   "source": [
    "trainer = my_trainer.Trainer(simple_model, datamodule,gpu=gpu_active)\n",
    "trainer.fit(epochs=50,lr=0.0001)"
   ]
  },
  {
   "cell_type": "markdown",
   "metadata": {},
   "source": [
    "#### 1.3 Performance Evaluation \n",
    "\n",
    "Test the model with **trainer.test()** and plot the model performance of the last training session with ***plot_performance(..)***.\n",
    "\n",
    "***Submission:*** Save the output of ***trainer.plot_performance(..)*** as **task4_model_simple.png**"
   ]
  },
  {
   "cell_type": "code",
   "execution_count": 18,
   "metadata": {},
   "outputs": [
    {
     "name": "stdout",
     "output_type": "stream",
     "text": [
      "performance loss: 0.15229067206382751 accuracy: 0.9818181395530701\n"
     ]
    },
    {
     "data": {
      "image/png": "[encoded data removed]",
      "text/plain": [
       "<Figure size 576x576 with 2 Axes>"
      ]
     },
     "metadata": {
      "needs_background": "light"
     },
     "output_type": "display_data"
    }
   ],
   "source": [
    "loss, acc = trainer.test()\n",
    "print(f\"performance loss: {loss} accuracy: {acc}\")\n",
    "trainer.plot_performance(name=\"task4_model_simple.png\",group_no=\"Group_9-11_11\")\n"
   ]
  },
  {
   "cell_type": "markdown",
   "metadata": {},
   "source": [
    "***\n",
    "#### Q2: What values are optimized during the training process of a CNN? Why isn't the validation accuracy increasing after some time? Why do we use a validation dataset?"
   ]
  },
  {
   "cell_type": "markdown",
   "metadata": {},
   "source": [
    "#ANSWER HERE"
   ]
  },
  {
   "cell_type": "markdown",
   "metadata": {},
   "source": [
    "### 3 Regularization\n",
    "#### 3.1 Network Structure\n",
    "\n",
    "With the basic model you should have achieved a test accuracy of about 95% As you can see on the last model performance, the simple model starts to overfit on the training data. One option to improve generalization is to use regularization. You can add batch normalization and dropout to do so. Update the **MaskClassifier** to include those techniques. Add dropout and batch normalization before suitable layers. Use the dropout parameter passed to the constructor for the dropout rate.\n",
    "\n",
    "Create a new model with a dropout rate of **dropout=0.5** or **batch_norm=True** and name it **'model_regularized'**. Take a look at the structure of your model by calling ***summary(model2)***. \n"
   ]
  },
  {
   "cell_type": "code",
   "execution_count": 19,
   "metadata": {},
   "outputs": [
    {
     "data": {
      "text/plain": [
       "==========================================================================================\n",
       "Layer (type:depth-idx)                   Output Shape              Param #\n",
       "==========================================================================================\n",
       "MaskClassifier                           --                        --\n",
       "├─Sequential: 1-1                        [32, 128, 4, 4]           --\n",
       "│    └─Conv2d: 2-1                       [32, 32, 64, 64]          896\n",
       "│    └─ReLU: 2-2                         [32, 32, 64, 64]          --\n",
       "│    └─BatchNorm2d: 2-3                  [32, 32, 64, 64]          64\n",
       "│    └─MaxPool2d: 2-4                    [32, 32, 32, 32]          --\n",
       "│    └─Dropout: 2-5                      [32, 32, 32, 32]          --\n",
       "│    └─Conv2d: 2-6                       [32, 64, 32, 32]          18,496\n",
       "│    └─ReLU: 2-7                         [32, 64, 32, 32]          --\n",
       "│    └─BatchNorm2d: 2-8                  [32, 64, 32, 32]          128\n",
       "│    └─MaxPool2d: 2-9                    [32, 64, 16, 16]          --\n",
       "│    └─Dropout: 2-10                     [32, 64, 16, 16]          --\n",
       "│    └─Conv2d: 2-11                      [32, 128, 16, 16]         73,856\n",
       "│    └─ReLU: 2-12                        [32, 128, 16, 16]         --\n",
       "│    └─BatchNorm2d: 2-13                 [32, 128, 16, 16]         256\n",
       "│    └─MaxPool2d: 2-14                   [32, 128, 8, 8]           --\n",
       "│    └─Dropout: 2-15                     [32, 128, 8, 8]           --\n",
       "│    └─Conv2d: 2-16                      [32, 128, 8, 8]           147,584\n",
       "│    └─ReLU: 2-17                        [32, 128, 8, 8]           --\n",
       "│    └─BatchNorm2d: 2-18                 [32, 128, 8, 8]           256\n",
       "│    └─MaxPool2d: 2-19                   [32, 128, 4, 4]           --\n",
       "│    └─Dropout: 2-20                     [32, 128, 4, 4]           --\n",
       "├─Sequential: 1-2                        [32, 1]                   --\n",
       "│    └─Linear: 2-21                      [32, 512]                 1,049,088\n",
       "│    └─ReLU: 2-22                        [32, 512]                 --\n",
       "│    └─Dropout: 2-23                     [32, 512]                 --\n",
       "│    └─Linear: 2-24                      [32, 256]                 131,328\n",
       "│    └─ReLU: 2-25                        [32, 256]                 --\n",
       "│    └─Dropout: 2-26                     [32, 256]                 --\n",
       "│    └─Linear: 2-27                      [32, 10]                  2,570\n",
       "│    └─ReLU: 2-28                        [32, 10]                  --\n",
       "│    └─Dropout: 2-29                     [32, 10]                  --\n",
       "│    └─Linear: 2-30                      [32, 1]                   11\n",
       "│    └─Sigmoid: 2-31                     [32, 1]                   --\n",
       "==========================================================================================\n",
       "Total params: 1,424,533\n",
       "Trainable params: 1,424,533\n",
       "Non-trainable params: 0\n",
       "Total mult-adds (G): 1.67\n",
       "==========================================================================================\n",
       "Input size (MB): 1.57\n",
       "Forward/backward pass size (MB): 121.83\n",
       "Params size (MB): 5.70\n",
       "Estimated Total Size (MB): 129.11\n",
       "=========================================================================================="
      ]
     },
     "execution_count": 19,
     "metadata": {},
     "output_type": "execute_result"
    }
   ],
   "source": [
    "model_regularized = my_model.MaskClassifier(\"model_regularized\", 64, 0.5, True)\n",
    "summary(model_regularized, (32, 3, 64, 64))"
   ]
  },
  {
   "cell_type": "markdown",
   "metadata": {},
   "source": [
    "***\n",
    "#### Q3: Compare the network structure of the model with and without regularization. What will be the effect of the dropout rate you have chosen? What is the effect of batch normalization?"
   ]
  },
  {
   "cell_type": "markdown",
   "metadata": {},
   "source": [
    "#ANSWER HERE"
   ]
  },
  {
   "cell_type": "markdown",
   "metadata": {},
   "source": [
    "#### 3.2 Training the network\n",
    "\n",
    "Create a new Trainer object called **trainer2**.\n",
    "Train the second network, using the same learning rate you used for the first model and set the number of epochs around **50**. \n",
    "You can use the same Data Module as for the simple model.\n"
   ]
  },
  {
   "cell_type": "code",
   "execution_count": 20,
   "metadata": {},
   "outputs": [
    {
     "name": "stderr",
     "output_type": "stream",
     "text": [
      "Epoch 0: 100%|██████████| 42/42 [00:09<00:00,  4.56it/s]\n"
     ]
    },
    {
     "name": "stdout",
     "output_type": "stream",
     "text": [
      "Epoch 0 Training: Loss: 0.6913409233093262 Accuracy: 0.5082703828811646\n",
      "Epoch 0 Validation: Loss: 0.6926243305206299 Accuracy: 0.5013020634651184\n"
     ]
    },
    {
     "name": "stderr",
     "output_type": "stream",
     "text": [
      "Epoch 1: 100%|██████████| 42/42 [00:08<00:00,  4.89it/s]\n"
     ]
    },
    {
     "name": "stdout",
     "output_type": "stream",
     "text": [
      "Epoch 1 Training: Loss: 0.6273965835571289 Accuracy: 0.6102621555328369\n",
      "Epoch 1 Validation: Loss: 0.6485036015510559 Accuracy: 0.8576388955116272\n"
     ]
    },
    {
     "name": "stderr",
     "output_type": "stream",
     "text": [
      "Epoch 2: 100%|██████████| 42/42 [00:08<00:00,  5.24it/s]\n"
     ]
    },
    {
     "name": "stdout",
     "output_type": "stream",
     "text": [
      "Epoch 2 Training: Loss: 0.4270385205745697 Accuracy: 0.8036286234855652\n",
      "Epoch 2 Validation: Loss: 0.45520663261413574 Accuracy: 0.8252604007720947\n"
     ]
    },
    {
     "name": "stderr",
     "output_type": "stream",
     "text": [
      "Epoch 3: 100%|██████████| 42/42 [00:08<00:00,  5.06it/s]\n"
     ]
    },
    {
     "name": "stdout",
     "output_type": "stream",
     "text": [
      "Epoch 3 Training: Loss: 0.34306854009628296 Accuracy: 0.849759578704834\n",
      "Epoch 3 Validation: Loss: 0.36608174443244934 Accuracy: 0.8662326335906982\n"
     ]
    },
    {
     "name": "stderr",
     "output_type": "stream",
     "text": [
      "Epoch 4: 100%|██████████| 42/42 [00:08<00:00,  4.92it/s]\n"
     ]
    },
    {
     "name": "stdout",
     "output_type": "stream",
     "text": [
      "Epoch 4 Training: Loss: 0.3007240891456604 Accuracy: 0.8601476550102234\n",
      "Epoch 4 Validation: Loss: 0.2983008325099945 Accuracy: 0.8924479484558105\n"
     ]
    },
    {
     "name": "stderr",
     "output_type": "stream",
     "text": [
      "Epoch 5: 100%|██████████| 42/42 [00:09<00:00,  4.53it/s]\n"
     ]
    },
    {
     "name": "stdout",
     "output_type": "stream",
     "text": [
      "Epoch 5 Training: Loss: 0.2892284691333771 Accuracy: 0.8642685413360596\n",
      "Epoch 5 Validation: Loss: 0.27113446593284607 Accuracy: 0.8913194537162781\n"
     ]
    },
    {
     "name": "stderr",
     "output_type": "stream",
     "text": [
      "Epoch 6: 100%|██████████| 42/42 [00:09<00:00,  4.56it/s]\n"
     ]
    },
    {
     "name": "stdout",
     "output_type": "stream",
     "text": [
      "Epoch 6 Training: Loss: 0.2703518867492676 Accuracy: 0.8705357313156128\n",
      "Epoch 6 Validation: Loss: 0.2611192762851715 Accuracy: 0.8939235806465149\n"
     ]
    },
    {
     "name": "stderr",
     "output_type": "stream",
     "text": [
      "Epoch 7: 100%|██████████| 42/42 [00:08<00:00,  4.95it/s]\n"
     ]
    },
    {
     "name": "stdout",
     "output_type": "stream",
     "text": [
      "Epoch 7 Training: Loss: 0.2640290856361389 Accuracy: 0.8707646727561951\n",
      "Epoch 7 Validation: Loss: 0.25554153323173523 Accuracy: 0.8952257037162781\n"
     ]
    },
    {
     "name": "stderr",
     "output_type": "stream",
     "text": [
      "Epoch 8: 100%|██████████| 42/42 [00:08<00:00,  4.80it/s]\n"
     ]
    },
    {
     "name": "stdout",
     "output_type": "stream",
     "text": [
      "Epoch 8 Training: Loss: 0.25195425748825073 Accuracy: 0.8729109168052673\n",
      "Epoch 8 Validation: Loss: 0.25928807258605957 Accuracy: 0.8964409828186035\n"
     ]
    },
    {
     "name": "stderr",
     "output_type": "stream",
     "text": [
      "Epoch 9: 100%|██████████| 42/42 [00:07<00:00,  5.26it/s]\n"
     ]
    },
    {
     "name": "stdout",
     "output_type": "stream",
     "text": [
      "Epoch 9 Training: Loss: 0.24963787198066711 Accuracy: 0.8778331279754639\n",
      "Epoch 9 Validation: Loss: 0.23813681304454803 Accuracy: 0.9056423306465149\n"
     ]
    },
    {
     "name": "stderr",
     "output_type": "stream",
     "text": [
      "Epoch 10: 100%|██████████| 42/42 [00:08<00:00,  4.84it/s]\n"
     ]
    },
    {
     "name": "stdout",
     "output_type": "stream",
     "text": [
      "Epoch 10 Training: Loss: 0.2399190068244934 Accuracy: 0.8880780339241028\n",
      "Epoch 10 Validation: Loss: 0.22754590213298798 Accuracy: 0.9147569537162781\n"
     ]
    },
    {
     "name": "stderr",
     "output_type": "stream",
     "text": [
      "Epoch 11: 100%|██████████| 42/42 [00:08<00:00,  4.99it/s]\n"
     ]
    },
    {
     "name": "stdout",
     "output_type": "stream",
     "text": [
      "Epoch 11 Training: Loss: 0.2397974282503128 Accuracy: 0.8732829093933105\n",
      "Epoch 11 Validation: Loss: 0.22396649420261383 Accuracy: 0.9122395515441895\n"
     ]
    },
    {
     "name": "stderr",
     "output_type": "stream",
     "text": [
      "Epoch 12: 100%|██████████| 42/42 [00:09<00:00,  4.59it/s]\n"
     ]
    },
    {
     "name": "stdout",
     "output_type": "stream",
     "text": [
      "Epoch 12 Training: Loss: 0.21917009353637695 Accuracy: 0.8864755034446716\n",
      "Epoch 12 Validation: Loss: 0.21764755249023438 Accuracy: 0.9108507037162781\n"
     ]
    },
    {
     "name": "stderr",
     "output_type": "stream",
     "text": [
      "Epoch 13: 100%|██████████| 42/42 [00:08<00:00,  4.89it/s]\n"
     ]
    },
    {
     "name": "stdout",
     "output_type": "stream",
     "text": [
      "Epoch 13 Training: Loss: 0.22215016186237335 Accuracy: 0.8848156929016113\n",
      "Epoch 13 Validation: Loss: 0.20602665841579437 Accuracy: 0.9120659828186035\n"
     ]
    },
    {
     "name": "stderr",
     "output_type": "stream",
     "text": [
      "Epoch 14: 100%|██████████| 42/42 [00:08<00:00,  4.94it/s]\n"
     ]
    },
    {
     "name": "stdout",
     "output_type": "stream",
     "text": [
      "Epoch 14 Training: Loss: 0.2140352427959442 Accuracy: 0.8882498145103455\n",
      "Epoch 14 Validation: Loss: 0.2086089700460434 Accuracy: 0.9066839814186096\n"
     ]
    },
    {
     "name": "stderr",
     "output_type": "stream",
     "text": [
      "Epoch 15: 100%|██████████| 42/42 [00:11<00:00,  3.75it/s]\n"
     ]
    },
    {
     "name": "stdout",
     "output_type": "stream",
     "text": [
      "Epoch 15 Training: Loss: 0.2111075520515442 Accuracy: 0.8867903351783752\n",
      "Epoch 15 Validation: Loss: 0.17767620086669922 Accuracy: 0.9239583015441895\n"
     ]
    },
    {
     "name": "stderr",
     "output_type": "stream",
     "text": [
      "Epoch 16: 100%|██████████| 42/42 [00:13<00:00,  3.17it/s]\n"
     ]
    },
    {
     "name": "stdout",
     "output_type": "stream",
     "text": [
      "Epoch 16 Training: Loss: 0.2138049304485321 Accuracy: 0.8802655339241028\n",
      "Epoch 16 Validation: Loss: 0.1777903288602829 Accuracy: 0.9213541150093079\n"
     ]
    },
    {
     "name": "stderr",
     "output_type": "stream",
     "text": [
      "Epoch 17: 100%|██████████| 42/42 [00:15<00:00,  2.78it/s]\n"
     ]
    },
    {
     "name": "stdout",
     "output_type": "stream",
     "text": [
      "Epoch 17 Training: Loss: 0.20142099261283875 Accuracy: 0.8889079093933105\n",
      "Epoch 17 Validation: Loss: 0.15565261244773865 Accuracy: 0.9411458373069763\n"
     ]
    },
    {
     "name": "stderr",
     "output_type": "stream",
     "text": [
      "Epoch 18: 100%|██████████| 42/42 [00:11<00:00,  3.68it/s]\n"
     ]
    },
    {
     "name": "stdout",
     "output_type": "stream",
     "text": [
      "Epoch 18 Training: Loss: 0.20472176373004913 Accuracy: 0.8914834856987\n",
      "Epoch 18 Validation: Loss: 0.1667746752500534 Accuracy: 0.9397569298744202\n"
     ]
    },
    {
     "name": "stderr",
     "output_type": "stream",
     "text": [
      "Epoch 19: 100%|██████████| 42/42 [00:10<00:00,  4.08it/s]\n"
     ]
    },
    {
     "name": "stdout",
     "output_type": "stream",
     "text": [
      "Epoch 19 Training: Loss: 0.18206270039081573 Accuracy: 0.8952323198318481\n",
      "Epoch 19 Validation: Loss: 0.1643896996974945 Accuracy: 0.9277777671813965\n"
     ]
    },
    {
     "name": "stderr",
     "output_type": "stream",
     "text": [
      "Epoch 20: 100%|██████████| 42/42 [00:11<00:00,  3.72it/s]\n"
     ]
    },
    {
     "name": "stdout",
     "output_type": "stream",
     "text": [
      "Epoch 20 Training: Loss: 0.18241830170154572 Accuracy: 0.8905677795410156\n",
      "Epoch 20 Validation: Loss: 0.150410994887352 Accuracy: 0.9410590529441833\n"
     ]
    },
    {
     "name": "stderr",
     "output_type": "stream",
     "text": [
      "Epoch 21: 100%|██████████| 42/42 [00:13<00:00,  3.20it/s]\n"
     ]
    },
    {
     "name": "stdout",
     "output_type": "stream",
     "text": [
      "Epoch 21 Training: Loss: 0.1768028736114502 Accuracy: 0.903960645198822\n",
      "Epoch 21 Validation: Loss: 0.14315751194953918 Accuracy: 0.9410590529441833\n"
     ]
    },
    {
     "name": "stderr",
     "output_type": "stream",
     "text": [
      "Epoch 22: 100%|██████████| 42/42 [00:09<00:00,  4.38it/s]\n"
     ]
    },
    {
     "name": "stdout",
     "output_type": "stream",
     "text": [
      "Epoch 22 Training: Loss: 0.18963506817817688 Accuracy: 0.8954899311065674\n",
      "Epoch 22 Validation: Loss: 0.1308557242155075 Accuracy: 0.9541666507720947\n"
     ]
    },
    {
     "name": "stderr",
     "output_type": "stream",
     "text": [
      "Epoch 23: 100%|██████████| 42/42 [00:10<00:00,  3.87it/s]\n"
     ]
    },
    {
     "name": "stdout",
     "output_type": "stream",
     "text": [
      "Epoch 23 Training: Loss: 0.17477990686893463 Accuracy: 0.9057062864303589\n",
      "Epoch 23 Validation: Loss: 0.13368231058120728 Accuracy: 0.9516493678092957\n"
     ]
    },
    {
     "name": "stderr",
     "output_type": "stream",
     "text": [
      "Epoch 24: 100%|██████████| 42/42 [00:11<00:00,  3.62it/s]\n"
     ]
    },
    {
     "name": "stdout",
     "output_type": "stream",
     "text": [
      "Epoch 24 Training: Loss: 0.1664007157087326 Accuracy: 0.9010702967643738\n",
      "Epoch 24 Validation: Loss: 0.14159975945949554 Accuracy: 0.9554687142372131\n"
     ]
    },
    {
     "name": "stderr",
     "output_type": "stream",
     "text": [
      "Epoch 25: 100%|██████████| 42/42 [00:13<00:00,  3.18it/s]\n"
     ]
    },
    {
     "name": "stdout",
     "output_type": "stream",
     "text": [
      "Epoch 25 Training: Loss: 0.16823932528495789 Accuracy: 0.8923134803771973\n",
      "Epoch 25 Validation: Loss: 0.1167033389210701 Accuracy: 0.9594618678092957\n"
     ]
    },
    {
     "name": "stderr",
     "output_type": "stream",
     "text": [
      "Epoch 26: 100%|██████████| 42/42 [00:08<00:00,  4.87it/s]\n"
     ]
    },
    {
     "name": "stdout",
     "output_type": "stream",
     "text": [
      "Epoch 26 Training: Loss: 0.1637326031923294 Accuracy: 0.9001259803771973\n",
      "Epoch 26 Validation: Loss: 0.12139922380447388 Accuracy: 0.9620659947395325\n"
     ]
    },
    {
     "name": "stderr",
     "output_type": "stream",
     "text": [
      "Epoch 27: 100%|██████████| 42/42 [00:11<00:00,  3.67it/s]\n"
     ]
    },
    {
     "name": "stdout",
     "output_type": "stream",
     "text": [
      "Epoch 27 Training: Loss: 0.16903135180473328 Accuracy: 0.9006410241127014\n",
      "Epoch 27 Validation: Loss: 0.1193874403834343 Accuracy: 0.9607639312744141\n"
     ]
    },
    {
     "name": "stderr",
     "output_type": "stream",
     "text": [
      "Epoch 28: 100%|██████████| 42/42 [00:13<00:00,  3.21it/s]\n"
     ]
    },
    {
     "name": "stdout",
     "output_type": "stream",
     "text": [
      "Epoch 28 Training: Loss: 0.16108140349388123 Accuracy: 0.8966917991638184\n",
      "Epoch 28 Validation: Loss: 0.10980409383773804 Accuracy: 0.9593749642372131\n"
     ]
    },
    {
     "name": "stderr",
     "output_type": "stream",
     "text": [
      "Epoch 29: 100%|██████████| 42/42 [00:13<00:00,  3.13it/s]\n"
     ]
    },
    {
     "name": "stdout",
     "output_type": "stream",
     "text": [
      "Epoch 29 Training: Loss: 0.15980620682239532 Accuracy: 0.9019001722335815\n",
      "Epoch 29 Validation: Loss: 0.10309278964996338 Accuracy: 0.9607639312744141\n"
     ]
    },
    {
     "name": "stderr",
     "output_type": "stream",
     "text": [
      "Epoch 30: 100%|██████████| 42/42 [00:13<00:00,  3.15it/s]\n"
     ]
    },
    {
     "name": "stdout",
     "output_type": "stream",
     "text": [
      "Epoch 30 Training: Loss: 0.15446338057518005 Accuracy: 0.8992101550102234\n",
      "Epoch 30 Validation: Loss: 0.10920573025941849 Accuracy: 0.9607639312744141\n"
     ]
    },
    {
     "name": "stderr",
     "output_type": "stream",
     "text": [
      "Epoch 31: 100%|██████████| 42/42 [00:16<00:00,  2.50it/s]\n"
     ]
    },
    {
     "name": "stdout",
     "output_type": "stream",
     "text": [
      "Epoch 31 Training: Loss: 0.15409336984157562 Accuracy: 0.901814341545105\n",
      "Epoch 31 Validation: Loss: 0.10887535661458969 Accuracy: 0.9607639312744141\n"
     ]
    },
    {
     "name": "stderr",
     "output_type": "stream",
     "text": [
      "Epoch 32: 100%|██████████| 42/42 [00:15<00:00,  2.70it/s]\n"
     ]
    },
    {
     "name": "stdout",
     "output_type": "stream",
     "text": [
      "Epoch 32 Training: Loss: 0.1475093513727188 Accuracy: 0.9134328961372375\n",
      "Epoch 32 Validation: Loss: 0.11751049757003784 Accuracy: 0.9607639312744141\n"
     ]
    },
    {
     "name": "stderr",
     "output_type": "stream",
     "text": [
      "Epoch 33: 100%|██████████| 42/42 [00:11<00:00,  3.81it/s]\n"
     ]
    },
    {
     "name": "stdout",
     "output_type": "stream",
     "text": [
      "Epoch 33 Training: Loss: 0.1495470106601715 Accuracy: 0.9128891825675964\n",
      "Epoch 33 Validation: Loss: 0.10847005993127823 Accuracy: 0.9658854007720947\n"
     ]
    },
    {
     "name": "stderr",
     "output_type": "stream",
     "text": [
      "Epoch 34: 100%|██████████| 42/42 [00:15<00:00,  2.79it/s]\n"
     ]
    },
    {
     "name": "stdout",
     "output_type": "stream",
     "text": [
      "Epoch 34 Training: Loss: 0.1448637843132019 Accuracy: 0.9057348966598511\n",
      "Epoch 34 Validation: Loss: 0.10794643312692642 Accuracy: 0.9632812142372131\n"
     ]
    },
    {
     "name": "stderr",
     "output_type": "stream",
     "text": [
      "Epoch 35: 100%|██████████| 42/42 [00:12<00:00,  3.29it/s]\n"
     ]
    },
    {
     "name": "stdout",
     "output_type": "stream",
     "text": [
      "Epoch 35 Training: Loss: 0.1475820094347 Accuracy: 0.9078811407089233\n",
      "Epoch 35 Validation: Loss: 0.10013250261545181 Accuracy: 0.9658854007720947\n"
     ]
    },
    {
     "name": "stderr",
     "output_type": "stream",
     "text": [
      "Epoch 36: 100%|██████████| 42/42 [00:13<00:00,  3.23it/s]\n"
     ]
    },
    {
     "name": "stdout",
     "output_type": "stream",
     "text": [
      "Epoch 36 Training: Loss: 0.14814375340938568 Accuracy: 0.9071084856987\n",
      "Epoch 36 Validation: Loss: 0.10142514854669571 Accuracy: 0.9633681178092957\n"
     ]
    },
    {
     "name": "stderr",
     "output_type": "stream",
     "text": [
      "Epoch 37: 100%|██████████| 42/42 [00:11<00:00,  3.63it/s]\n"
     ]
    },
    {
     "name": "stdout",
     "output_type": "stream",
     "text": [
      "Epoch 37 Training: Loss: 0.1274653822183609 Accuracy: 0.9140052795410156\n",
      "Epoch 37 Validation: Loss: 0.11242464929819107 Accuracy: 0.9672743678092957\n"
     ]
    },
    {
     "name": "stderr",
     "output_type": "stream",
     "text": [
      "Epoch 38: 100%|██████████| 42/42 [00:13<00:00,  3.21it/s]\n"
     ]
    },
    {
     "name": "stdout",
     "output_type": "stream",
     "text": [
      "Epoch 38 Training: Loss: 0.14080722630023956 Accuracy: 0.909254789352417\n",
      "Epoch 38 Validation: Loss: 0.1255895346403122 Accuracy: 0.9620659947395325\n"
     ]
    },
    {
     "name": "stderr",
     "output_type": "stream",
     "text": [
      "Epoch 39: 100%|██████████| 42/42 [00:13<00:00,  3.18it/s]\n"
     ]
    },
    {
     "name": "stdout",
     "output_type": "stream",
     "text": [
      "Epoch 39 Training: Loss: 0.13584254682064056 Accuracy: 0.9143773317337036\n",
      "Epoch 39 Validation: Loss: 0.11426282674074173 Accuracy: 0.9620659947395325\n"
     ]
    },
    {
     "name": "stderr",
     "output_type": "stream",
     "text": [
      "Epoch 40: 100%|██████████| 42/42 [00:13<00:00,  3.21it/s]\n"
     ]
    },
    {
     "name": "stdout",
     "output_type": "stream",
     "text": [
      "Epoch 40 Training: Loss: 0.13317202031612396 Accuracy: 0.943738579750061\n",
      "Epoch 40 Validation: Loss: 0.1315266638994217 Accuracy: 0.9555556178092957\n"
     ]
    },
    {
     "name": "stderr",
     "output_type": "stream",
     "text": [
      "Epoch 41: 100%|██████████| 42/42 [00:13<00:00,  3.21it/s]\n"
     ]
    },
    {
     "name": "stdout",
     "output_type": "stream",
     "text": [
      "Epoch 41 Training: Loss: 0.12546098232269287 Accuracy: 0.965516209602356\n",
      "Epoch 41 Validation: Loss: 0.11795084923505783 Accuracy: 0.964756965637207\n"
     ]
    },
    {
     "name": "stderr",
     "output_type": "stream",
     "text": [
      "Epoch 42: 100%|██████████| 42/42 [00:14<00:00,  2.85it/s]\n"
     ]
    },
    {
     "name": "stdout",
     "output_type": "stream",
     "text": [
      "Epoch 42 Training: Loss: 0.13686467707157135 Accuracy: 0.9673763513565063\n",
      "Epoch 42 Validation: Loss: 0.11486183851957321 Accuracy: 0.9620659947395325\n"
     ]
    },
    {
     "name": "stderr",
     "output_type": "stream",
     "text": [
      "Epoch 43: 100%|██████████| 42/42 [00:13<00:00,  3.06it/s]\n"
     ]
    },
    {
     "name": "stdout",
     "output_type": "stream",
     "text": [
      "Epoch 43 Training: Loss: 0.12638260424137115 Accuracy: 0.9676339030265808\n",
      "Epoch 43 Validation: Loss: 0.12278159707784653 Accuracy: 0.9633681178092957\n"
     ]
    },
    {
     "name": "stderr",
     "output_type": "stream",
     "text": [
      "Epoch 44: 100%|██████████| 42/42 [00:15<00:00,  2.76it/s]\n"
     ]
    },
    {
     "name": "stdout",
     "output_type": "stream",
     "text": [
      "Epoch 44 Training: Loss: 0.12836286425590515 Accuracy: 0.9624255895614624\n",
      "Epoch 44 Validation: Loss: 0.1352185159921646 Accuracy: 0.9568576812744141\n"
     ]
    },
    {
     "name": "stderr",
     "output_type": "stream",
     "text": [
      "Epoch 45: 100%|██████████| 42/42 [00:20<00:00,  2.05it/s]\n"
     ]
    },
    {
     "name": "stdout",
     "output_type": "stream",
     "text": [
      "Epoch 45 Training: Loss: 0.12020743638277054 Accuracy: 0.9723843932151794\n",
      "Epoch 45 Validation: Loss: 0.15235112607479095 Accuracy: 0.9568576812744141\n"
     ]
    },
    {
     "name": "stderr",
     "output_type": "stream",
     "text": [
      "Epoch 46: 100%|██████████| 42/42 [00:16<00:00,  2.55it/s]\n"
     ]
    },
    {
     "name": "stdout",
     "output_type": "stream",
     "text": [
      "Epoch 46 Training: Loss: 0.13032595813274384 Accuracy: 0.9685783386230469\n",
      "Epoch 46 Validation: Loss: 0.10576919466257095 Accuracy: 0.9661458134651184\n"
     ]
    },
    {
     "name": "stderr",
     "output_type": "stream",
     "text": [
      "Epoch 47: 100%|██████████| 42/42 [00:12<00:00,  3.44it/s]\n"
     ]
    },
    {
     "name": "stdout",
     "output_type": "stream",
     "text": [
      "Epoch 47 Training: Loss: 0.12620608508586884 Accuracy: 0.9698660969734192\n",
      "Epoch 47 Validation: Loss: 0.10569509118795395 Accuracy: 0.964756965637207\n"
     ]
    },
    {
     "name": "stderr",
     "output_type": "stream",
     "text": [
      "Epoch 48: 100%|██████████| 42/42 [00:08<00:00,  4.85it/s]\n"
     ]
    },
    {
     "name": "stdout",
     "output_type": "stream",
     "text": [
      "Epoch 48 Training: Loss: 0.11684080213308334 Accuracy: 0.9681203961372375\n",
      "Epoch 48 Validation: Loss: 0.10500767827033997 Accuracy: 0.9646701812744141\n"
     ]
    },
    {
     "name": "stderr",
     "output_type": "stream",
     "text": [
      "Epoch 49: 100%|██████████| 42/42 [00:09<00:00,  4.44it/s]\n"
     ]
    },
    {
     "name": "stdout",
     "output_type": "stream",
     "text": [
      "Epoch 49 Training: Loss: 0.146006241440773 Accuracy: 0.9722126722335815\n",
      "Epoch 49 Validation: Loss: 0.11759664863348007 Accuracy: 0.9621527791023254\n"
     ]
    }
   ],
   "source": [
    "trainer2 = my_trainer.Trainer(model_regularized, datamodule,gpu=gpu_active)\n",
    "trainer2.fit(epochs=50,lr=0.0001)"
   ]
  },
  {
   "cell_type": "markdown",
   "metadata": {},
   "source": [
    "#### 3.3 Plot Performance\n",
    "\n",
    "Plot the performance of the second model with ***trainer2.plot_performance(..)***.\n",
    "\n",
    "***Submission:*** Save the output of ***trainer2.plot_performance(..)*** as **task4_model_regularized.png**"
   ]
  },
  {
   "cell_type": "code",
   "execution_count": 21,
   "metadata": {},
   "outputs": [
    {
     "name": "stdout",
     "output_type": "stream",
     "text": [
      "performance loss: 0.12003210186958313 accuracy: 0.9662337303161621\n"
     ]
    },
    {
     "data": {
      "image/png": "[encoded data removed]",
      "text/plain": [
       "<Figure size 576x576 with 2 Axes>"
      ]
     },
     "metadata": {
      "needs_background": "light"
     },
     "output_type": "display_data"
    }
   ],
   "source": [
    "loss2, acc2 = trainer2.test()\n",
    "print(f\"performance loss: {loss2} accuracy: {acc2}\")\n",
    "trainer2.plot_performance(name=\"task4_model_regularized.png\",group_no=\"Group_9-11_11\")"
   ]
  },
  {
   "cell_type": "markdown",
   "metadata": {},
   "source": [
    "***\n",
    "#### Q4: Compare the performance of the model with and without regularization. Where do you see improvements?\n"
   ]
  },
  {
   "cell_type": "markdown",
   "metadata": {},
   "source": [
    "#ANSWER HERE "
   ]
  },
  {
   "cell_type": "markdown",
   "metadata": {},
   "source": [
    "### 4 Data Augmentation\n",
    "#### 4.1 Advanced Data Pre-Processing\n",
    "You will enhance generalization of the network by artificially adding more variety to the training data. Implement data augmentation in **get_transforms** method of **my_datamodule**. Have a look at [torchvision transforms](https://pytorch.org/vision/stable/transforms.html) and choose at least three data augmentation techniques."
   ]
  },
  {
   "cell_type": "code",
   "execution_count": null,
   "metadata": {
    "scrolled": true
   },
   "outputs": [],
   "source": []
  },
  {
   "cell_type": "markdown",
   "metadata": {},
   "source": [
    "#### 4.2 Activation Maps before Training\n",
    "Create a model with a dropout rate of **60%** and batch normalization. Use a learning rate of approximately **0.0007**. Call the model **'model_augmented'**.\n",
    "\n",
    "The convolutional layers in the network are initialised with random values. We are going to compare the activation maps before and after the training process. Use ***utils.plot_activation_maps(..)*** to plot some untrained activation maps and filter kernels of the third model. \n",
    "\n",
    "Get two image sample of the augmented training dataset with **sample=dm2.train_dataset[...][0]**, one with a mask and one without a mask. Pass each image sample to ***utils.plot_activation_maps(..)***.\n",
    "\n",
    "\n",
    "***Submission:*** Save the activation maps of the untrained model as **task4_face_activation_maps_before.png** and **task4_mask_activation_maps_before.png** using ***utils.plot_activation_maps(..)***\n",
    "\n"
   ]
  },
  {
   "cell_type": "code",
   "execution_count": null,
   "metadata": {},
   "outputs": [],
   "source": []
  },
  {
   "cell_type": "markdown",
   "metadata": {},
   "source": [
    "#### 4.3 Training the network\n",
    "Create a third trainer object and train the third network here using the augmented datamodule. Set the epochs to around **100**.\n",
    "\n",
    "Depending on your hardware this might take longer than the last training sessions."
   ]
  },
  {
   "cell_type": "code",
   "execution_count": null,
   "metadata": {},
   "outputs": [],
   "source": [
    "\n"
   ]
  },
  {
   "cell_type": "markdown",
   "metadata": {},
   "source": [
    "#### 4.4. Performance Evaluation \n",
    "Plot the model performance of the third model with ***trainer3.plot_performance(..)***.\n",
    "\n",
    "***Submission:*** Save the output of ***model.plot_curve(..)*** as **task4_model_augmented.png**"
   ]
  },
  {
   "cell_type": "code",
   "execution_count": null,
   "metadata": {
    "scrolled": true
   },
   "outputs": [],
   "source": []
  },
  {
   "cell_type": "markdown",
   "metadata": {},
   "source": [
    "***\n",
    "#### Q5: Look at the performance of the third model over time, what do you observe compared to the first two models? Explain underfitting/overfitting based on your plots."
   ]
  },
  {
   "cell_type": "markdown",
   "metadata": {},
   "source": [
    "#ANSWER HERE"
   ]
  },
  {
   "cell_type": "markdown",
   "metadata": {},
   "source": [
    "#### 4.5 Activation Maps after Training\n",
    "During training the weights of the model are adapted to the feature distribution of the training dataset. Plot some activation maps of the third model again using ***utils.plot_activation_maps(..)***. Use the same image samples you used before.\n",
    "\n",
    "***Submission:*** Save the activation maps after the training as **task4_mask_activation_maps_after.png** and **task4_face_activation_maps_after.png** using ***utils.plot_activation_maps(..)***"
   ]
  },
  {
   "cell_type": "code",
   "execution_count": null,
   "metadata": {},
   "outputs": [],
   "source": []
  },
  {
   "cell_type": "markdown",
   "metadata": {},
   "source": [
    "***\n",
    "#### Q6: The activations and filter kernels after the training have changed, what do you observe? Explain possible reasons.\n"
   ]
  },
  {
   "cell_type": "markdown",
   "metadata": {},
   "source": [
    "#ANSWER HERE "
   ]
  },
  {
   "cell_type": "markdown",
   "metadata": {},
   "source": [
    "### 5 Evaluation\n",
    "\n",
    "Calculate the confusion matrix. You can use the function **confusion_matrix** from **sklearn.metrics**. A confusion matrix within a binary decision problem shows:\n",
    " - \"true positive\" for correctly predicted event values.\n",
    " - \"false positive\" for incorrectly predicted event values.\n",
    " - \"true negative\" for correctly predicted no-event values.\n",
    " - \"false negative\" for incorrectly predicted no-event values.\n",
    "\n",
    "You can obtain the test data and labes by using **X, y = next(iter(dm2.text_dataloader()))**. Use **trainer3.predict(X)** to obtain the predicted value. You can convert a tensor to a numpy array by using **y.detach().numpy()**. "
   ]
  },
  {
   "cell_type": "code",
   "execution_count": null,
   "metadata": {},
   "outputs": [],
   "source": []
  },
  {
   "cell_type": "markdown",
   "metadata": {},
   "source": [
    "***\n",
    "#### Q7: Compare the approach for classification from TASK3 and TASK4. Discuss advantages, disadvantages, strength and weakness. \n"
   ]
  },
  {
   "cell_type": "markdown",
   "metadata": {},
   "source": [
    "#ANSWER HERE"
   ]
  }
 ],
 "metadata": {
  "interpreter": {
   "hash": "75693ee19d06e717bea24ca98d52016a9b4d16608a24163ca0c9b5a668eee469"
  },
  "kernelspec": {
   "display_name": "Python 3",
   "language": "python",
   "name": "python3"
  },
  "language_info": {
   "codemirror_mode": {
    "name": "ipython",
    "version": 3
   },
   "file_extension": ".py",
   "mimetype": "text/x-python",
   "name": "python",
   "nbconvert_exporter": "python",
   "pygments_lexer": "ipython3",
   "version": "3.9.0"
  }
 },
 "nbformat": 4,
 "nbformat_minor": 4
}
